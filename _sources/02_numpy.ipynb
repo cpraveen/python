{
 "cells": [
  {
   "cell_type": "markdown",
   "metadata": {},
   "source": [
    "# Numpy"
   ]
  },
  {
   "cell_type": "markdown",
   "metadata": {},
   "source": [
    "$\\newcommand{\\re}{\\mathbb{R}}$\n",
    "[Numpy](https://numpy.org/doc/stable/user/index.html) provides many useful types and methods to perform numerical computations including vectors, matrices and linear algebra.\n",
    "\n",
    "First import the numpy module."
   ]
  },
  {
   "cell_type": "code",
   "execution_count": 292,
   "metadata": {},
   "outputs": [],
   "source": [
    "import numpy"
   ]
  },
  {
   "cell_type": "markdown",
   "metadata": {},
   "source": [
    "You only need to do this once, usually at the beginning of your code.\n",
    "\n",
    "To access methods, etc. inside this module, use dot operator."
   ]
  },
  {
   "cell_type": "code",
   "execution_count": 293,
   "metadata": {},
   "outputs": [
    {
     "name": "stdout",
     "output_type": "stream",
     "text": [
      "3.141592653589793\n",
      "1.0\n"
     ]
    }
   ],
   "source": [
    "print(numpy.pi)\n",
    "print(numpy.sin(numpy.pi/2))"
   ]
  },
  {
   "cell_type": "markdown",
   "metadata": {},
   "source": [
    " It is common practice to import numpy like this."
   ]
  },
  {
   "cell_type": "code",
   "execution_count": 294,
   "metadata": {},
   "outputs": [],
   "source": [
    "import numpy as np"
   ]
  },
  {
   "cell_type": "markdown",
   "metadata": {},
   "source": [
    "Note that ```np``` acts as an alias or short-hand for ```numpy```."
   ]
  },
  {
   "cell_type": "code",
   "execution_count": 295,
   "metadata": {},
   "outputs": [
    {
     "name": "stdout",
     "output_type": "stream",
     "text": [
      "3.141592653589793\n",
      "1.0\n"
     ]
    }
   ],
   "source": [
    "print(np.pi)\n",
    "print(np.sin(np.pi/2))"
   ]
  },
  {
   "cell_type": "markdown",
   "metadata": {},
   "source": [
    "## 1-d [arrays](https://numpy.org/doc/stable/reference/generated/numpy.array.html)"
   ]
  },
  {
   "cell_type": "markdown",
   "metadata": {},
   "source": [
    "Create an array of zeros"
   ]
  },
  {
   "cell_type": "code",
   "execution_count": 296,
   "metadata": {},
   "outputs": [
    {
     "name": "stdout",
     "output_type": "stream",
     "text": [
      "[0. 0. 0. 0. 0.]\n"
     ]
    }
   ],
   "source": [
    "x = np.zeros(5)\n",
    "print(x)"
   ]
  },
  {
   "cell_type": "markdown",
   "metadata": {},
   "source": [
    "These one dimensional arrays are of type ```ndarray```"
   ]
  },
  {
   "cell_type": "code",
   "execution_count": 297,
   "metadata": {},
   "outputs": [
    {
     "data": {
      "text/plain": [
       "numpy.ndarray"
      ]
     },
     "execution_count": 297,
     "metadata": {},
     "output_type": "execute_result"
    }
   ],
   "source": [
    "type(x)"
   ]
  },
  {
   "cell_type": "markdown",
   "metadata": {},
   "source": [
    "Create an array of ones"
   ]
  },
  {
   "cell_type": "code",
   "execution_count": 298,
   "metadata": {},
   "outputs": [
    {
     "name": "stdout",
     "output_type": "stream",
     "text": [
      "[1. 1. 1. 1. 1.]\n"
     ]
    }
   ],
   "source": [
    "x = np.ones(5)\n",
    "print(x)"
   ]
  },
  {
   "cell_type": "markdown",
   "metadata": {},
   "source": [
    "Create and add two arrays"
   ]
  },
  {
   "cell_type": "code",
   "execution_count": 299,
   "metadata": {},
   "outputs": [
    {
     "name": "stdout",
     "output_type": "stream",
     "text": [
      "[5. 7. 9.]\n"
     ]
    }
   ],
   "source": [
    "x = np.array([1.0, 2.0, 3.0])\n",
    "y = np.array([4.0, 5.0, 6.0])\n",
    "z = x + y\n",
    "print(z)"
   ]
  },
  {
   "cell_type": "markdown",
   "metadata": {},
   "source": [
    "Get the size of array"
   ]
  },
  {
   "cell_type": "code",
   "execution_count": 300,
   "metadata": {},
   "outputs": [
    {
     "name": "stdout",
     "output_type": "stream",
     "text": [
      "3\n",
      "3\n"
     ]
    }
   ],
   "source": [
    "print(len(x))\n",
    "print(x.size)"
   ]
  },
  {
   "cell_type": "markdown",
   "metadata": {},
   "source": [
    "Get the shape of an array"
   ]
  },
  {
   "cell_type": "code",
   "execution_count": 301,
   "metadata": {},
   "outputs": [
    {
     "name": "stdout",
     "output_type": "stream",
     "text": [
      "(3,)\n"
     ]
    }
   ],
   "source": [
    "print(x.shape)"
   ]
  },
  {
   "cell_type": "markdown",
   "metadata": {},
   "source": [
    "We see that these are arrays of reals by default. We can specify the type"
   ]
  },
  {
   "cell_type": "code",
   "execution_count": 302,
   "metadata": {},
   "outputs": [
    {
     "name": "stdout",
     "output_type": "stream",
     "text": [
      "[0 0 0 0 0]\n"
     ]
    }
   ],
   "source": [
    "a = np.zeros(5, dtype=int)\n",
    "print(a)"
   ]
  },
  {
   "cell_type": "markdown",
   "metadata": {},
   "source": [
    "## [linspace](https://numpy.org/doc/stable/reference/generated/numpy.linspace.html)"
   ]
  },
  {
   "cell_type": "markdown",
   "metadata": {},
   "source": [
    "This behaves same way as Matlab's [linspace](https://mathworks.com/help/matlab/ref/linspace.html) function.\n",
    "\n",
    "Generate 10 uniformly spaced numbers in [1,10]"
   ]
  },
  {
   "cell_type": "code",
   "execution_count": 303,
   "metadata": {},
   "outputs": [
    {
     "name": "stdout",
     "output_type": "stream",
     "text": [
      "[ 1.  2.  3.  4.  5.  6.  7.  8.  9. 10.]\n"
     ]
    }
   ],
   "source": [
    "x = np.linspace(1,10,10)\n",
    "print(x)"
   ]
  },
  {
   "cell_type": "markdown",
   "metadata": {},
   "source": [
    "Note that this includes the end points 1 and 10. The output of linspace is an ```ndarray``` of floats."
   ]
  },
  {
   "cell_type": "code",
   "execution_count": 304,
   "metadata": {},
   "outputs": [
    {
     "data": {
      "text/plain": [
       "numpy.ndarray"
      ]
     },
     "execution_count": 304,
     "metadata": {},
     "output_type": "execute_result"
    }
   ],
   "source": [
    "type(x)"
   ]
  },
  {
   "cell_type": "markdown",
   "metadata": {},
   "source": [
    "`x = linspace(a,b,n)` is such that `x` is an array of `n` elements\n",
    "\n",
    "```\n",
    "x[i] = a + i*h,   i=0,1,2,...,n-1,    h = (b-a)/(n-1)\n",
    "```\n",
    "    \n",
    "so that\n",
    "    \n",
    "```\n",
    "x[0] = a,   x[n-1] = x[-1] = b\n",
    "```\n",
    "\n",
    "Note that we get last element of array using `x[-1]`; similarly, the last but one is given by `x[-2]`, etc."
   ]
  },
  {
   "cell_type": "markdown",
   "metadata": {},
   "source": [
    "## [arange](https://numpy.org/doc/stable/reference/generated/numpy.arange.html)"
   ]
  },
  {
   "cell_type": "code",
   "execution_count": 305,
   "metadata": {},
   "outputs": [
    {
     "name": "stdout",
     "output_type": "stream",
     "text": [
      "[1 2 3 4 5 6 7 8 9]\n",
      "<class 'numpy.ndarray'>\n"
     ]
    }
   ],
   "source": [
    "x = np.arange(1,10)\n",
    "print(x)\n",
    "print(type(x))"
   ]
  },
  {
   "cell_type": "markdown",
   "metadata": {},
   "source": [
    "For $m < n$, `arange(m,n)` returns\n",
    "\n",
    "$$\n",
    "m, m+1, \\ldots, n-1\n",
    "$$\n",
    "\n",
    "Note the last value $n$ is not included. \n",
    "\n",
    "We can specify a step size"
   ]
  },
  {
   "cell_type": "code",
   "execution_count": 306,
   "metadata": {},
   "outputs": [
    {
     "name": "stdout",
     "output_type": "stream",
     "text": [
      "[1 3 5 7 9]\n"
     ]
    }
   ],
   "source": [
    "x = np.arange(1,10,2)\n",
    "print(x)"
   ]
  },
  {
   "cell_type": "markdown",
   "metadata": {},
   "source": [
    "If the arguments are float, the returned value is also float."
   ]
  },
  {
   "cell_type": "code",
   "execution_count": 307,
   "metadata": {},
   "outputs": [
    {
     "name": "stdout",
     "output_type": "stream",
     "text": [
      "[1. 2. 3. 4. 5. 6. 7. 8. 9.]\n"
     ]
    }
   ],
   "source": [
    "x = np.arange(1.0,10.0)\n",
    "print(x)"
   ]
  },
  {
   "cell_type": "code",
   "execution_count": 308,
   "metadata": {},
   "outputs": [
    {
     "name": "stdout",
     "output_type": "stream",
     "text": [
      "[0.  0.1 0.2 0.3 0.4 0.5 0.6 0.7 0.8 0.9]\n"
     ]
    }
   ],
   "source": [
    "x = np.arange(0,1,0.1)\n",
    "print(x)"
   ]
  },
  {
   "cell_type": "markdown",
   "metadata": {},
   "source": [
    "## Beware of pitfalls - 1\n",
    "\n",
    "Create an array of ones."
   ]
  },
  {
   "cell_type": "code",
   "execution_count": 309,
   "metadata": {},
   "outputs": [
    {
     "name": "stdout",
     "output_type": "stream",
     "text": [
      "[1. 1. 1. 1. 1. 1. 1. 1. 1. 1.]\n"
     ]
    }
   ],
   "source": [
    "x = np.ones(10)\n",
    "print(x)"
   ]
  },
  {
   "cell_type": "markdown",
   "metadata": {},
   "source": [
    "Maybe we want set all elements to zero, so we might try this"
   ]
  },
  {
   "cell_type": "code",
   "execution_count": 310,
   "metadata": {},
   "outputs": [
    {
     "name": "stdout",
     "output_type": "stream",
     "text": [
      "0.0\n"
     ]
    }
   ],
   "source": [
    "x = 0.0\n",
    "print(x)"
   ]
  },
  {
   "cell_type": "markdown",
   "metadata": {},
   "source": [
    "```x``` has changed from an array to a scalar !!! In Python, the type of a variable is determined by what we assign to it. The correct way to set zeroes is this."
   ]
  },
  {
   "cell_type": "code",
   "execution_count": 311,
   "metadata": {},
   "outputs": [
    {
     "name": "stdout",
     "output_type": "stream",
     "text": [
      "[1. 1. 1. 1. 1. 1. 1. 1. 1. 1.]\n",
      "[0. 0. 0. 0. 0. 0. 0. 0. 0. 0.]\n"
     ]
    }
   ],
   "source": [
    "x = np.ones(10)\n",
    "print(x)\n",
    "x[:] = 0.0\n",
    "print(x)"
   ]
  },
  {
   "cell_type": "markdown",
   "metadata": {},
   "source": [
    "## Beware of pitfalls - 2"
   ]
  },
  {
   "cell_type": "code",
   "execution_count": 312,
   "metadata": {},
   "outputs": [
    {
     "name": "stdout",
     "output_type": "stream",
     "text": [
      "x =  [0. 0. 0. 0. 0.]\n",
      "y =  [0. 0. 0. 0. 0.]\n"
     ]
    }
   ],
   "source": [
    "x = np.ones(5)\n",
    "y = x\n",
    "x[:] = 0.0\n",
    "print('x = ', x)\n",
    "print('y = ', y)"
   ]
  },
  {
   "cell_type": "markdown",
   "metadata": {},
   "source": [
    "Why did ```y``` change ? This happened because when we do\n",
    "\n",
    "```\n",
    "y = x\n",
    "```\n",
    "\n",
    "then `y` is just a pointer to `x`, so that changing `x` changes `y` also. If we want ```y``` to be an independent copy of ```x``` then do this"
   ]
  },
  {
   "cell_type": "code",
   "execution_count": 313,
   "metadata": {},
   "outputs": [
    {
     "name": "stdout",
     "output_type": "stream",
     "text": [
      "x =  [0. 0. 0. 0. 0.]\n",
      "y =  [1. 1. 1. 1. 1.]\n"
     ]
    }
   ],
   "source": [
    "x = np.ones(5)\n",
    "y = x.copy()     # or y = np.copy(x)\n",
    "x[:] = 0.0\n",
    "print('x = ', x)\n",
    "print('y = ', y)"
   ]
  },
  {
   "cell_type": "markdown",
   "metadata": {},
   "source": [
    "## 2-d [arrays](https://numpy.org/doc/stable/reference/generated/numpy.array.html)"
   ]
  },
  {
   "cell_type": "markdown",
   "metadata": {},
   "source": [
    "2-d arrays can be considered as matrices, though Numpy has a separate [matrix](https://numpy.org/doc/stable/reference/generated/numpy.matrix.html) class.\n",
    "\n",
    "Create an array of zeros"
   ]
  },
  {
   "cell_type": "code",
   "execution_count": 314,
   "metadata": {},
   "outputs": [
    {
     "name": "stdout",
     "output_type": "stream",
     "text": [
      "[[0. 0. 0. 0. 0.]\n",
      " [0. 0. 0. 0. 0.]\n",
      " [0. 0. 0. 0. 0.]\n",
      " [0. 0. 0. 0. 0.]\n",
      " [0. 0. 0. 0. 0.]]\n"
     ]
    }
   ],
   "source": [
    "A = np.zeros((5,5))\n",
    "print(A)"
   ]
  },
  {
   "cell_type": "markdown",
   "metadata": {},
   "source": [
    "The size must be specified as a tuple or list.\n",
    "\n",
    "We can access the elements by two indices `A[i,j]`: here `i` is the row index and `j` is the column index.\n",
    "\n",
    "```\n",
    " -----------j-------->\n",
    " |  [[0. 0. 0. 0. 0.]\n",
    " |   [0. 0. 0. 0. 0.]\n",
    " i   [0. 0. 0. 0. 0.]\n",
    " |   [0. 0. 0. 0. 0.]\n",
    " v   [0. 0. 0. 0. 0.]]\n",
    "```\n",
    "\n",
    "The top, left element is `A[0,0]`.\n",
    "\n",
    "We can modify the elements of an array."
   ]
  },
  {
   "cell_type": "code",
   "execution_count": 315,
   "metadata": {},
   "outputs": [
    {
     "name": "stdout",
     "output_type": "stream",
     "text": [
      "[[0. 0. 0. 0. 0.]\n",
      " [0. 1. 0. 0. 0.]\n",
      " [0. 0. 0. 0. 0.]\n",
      " [0. 0. 0. 0. 0.]\n",
      " [0. 0. 0. 0. 0.]]\n"
     ]
    }
   ],
   "source": [
    "A[1,1] = 1.0\n",
    "print(A)"
   ]
  },
  {
   "cell_type": "markdown",
   "metadata": {},
   "source": [
    "Create an array of ones"
   ]
  },
  {
   "cell_type": "code",
   "execution_count": 316,
   "metadata": {},
   "outputs": [
    {
     "name": "stdout",
     "output_type": "stream",
     "text": [
      "[[1. 1. 1.]\n",
      " [1. 1. 1.]]\n"
     ]
    }
   ],
   "source": [
    "A = np.ones((2,3))\n",
    "print(A)"
   ]
  },
  {
   "cell_type": "markdown",
   "metadata": {},
   "source": [
    "Create identity matrix"
   ]
  },
  {
   "cell_type": "code",
   "execution_count": 317,
   "metadata": {},
   "outputs": [
    {
     "name": "stdout",
     "output_type": "stream",
     "text": [
      "[[1. 0. 0. 0. 0.]\n",
      " [0. 1. 0. 0. 0.]\n",
      " [0. 0. 1. 0. 0.]\n",
      " [0. 0. 0. 1. 0.]\n",
      " [0. 0. 0. 0. 1.]]\n"
     ]
    }
   ],
   "source": [
    "A = np.eye(5)\n",
    "print(A)"
   ]
  },
  {
   "cell_type": "markdown",
   "metadata": {},
   "source": [
    "Create an array by specifying its elements"
   ]
  },
  {
   "cell_type": "code",
   "execution_count": 318,
   "metadata": {},
   "outputs": [
    {
     "name": "stdout",
     "output_type": "stream",
     "text": [
      "[[1. 2.]\n",
      " [3. 4.]]\n"
     ]
    }
   ],
   "source": [
    "A = np.array([[1.0, 2.0], \n",
    "              [3.0, 4.0]])\n",
    "print(A)"
   ]
  },
  {
   "cell_type": "markdown",
   "metadata": {},
   "source": [
    "Create a random array and inspect its shape"
   ]
  },
  {
   "cell_type": "code",
   "execution_count": 319,
   "metadata": {},
   "outputs": [
    {
     "name": "stdout",
     "output_type": "stream",
     "text": [
      "[[0.19640729 0.66135505 0.4009534 ]\n",
      " [0.13441528 0.20117071 0.61937435]]\n",
      "A.size = 6\n",
      "A.shape = (2, 3)\n",
      "A.shape[0] = 2  (number of rows)\n",
      "A.shape[1] = 3  (number of columns)\n"
     ]
    }
   ],
   "source": [
    "m, n = 2, 3\n",
    "A = np.random.rand(m,n)\n",
    "print(A)\n",
    "print('A.size =',A.size)\n",
    "print('A.shape =',A.shape)\n",
    "print('A.shape[0] =',A.shape[0],' (number of rows)')\n",
    "print('A.shape[1] =',A.shape[1],' (number of columns)')"
   ]
  },
  {
   "cell_type": "markdown",
   "metadata": {},
   "source": [
    "To print the elements of an array, we need two for loops, one over rows and another over the columns."
   ]
  },
  {
   "cell_type": "code",
   "execution_count": 320,
   "metadata": {},
   "outputs": [
    {
     "name": "stdout",
     "output_type": "stream",
     "text": [
      "0 0 0.1964072905237353\n",
      "0 1 0.6613550473405067\n",
      "0 2 0.40095340191402395\n",
      "1 0 0.13441527750515303\n",
      "1 1 0.20117071248853824\n",
      "1 2 0.6193743469262946\n"
     ]
    }
   ],
   "source": [
    "for i in range(m): # loop over rows\n",
    "    for j in range(n): # loop over columns\n",
    "        print(i,j,A[i,j])"
   ]
  },
  {
   "cell_type": "markdown",
   "metadata": {},
   "source": [
    "To transpose a 2-d array"
   ]
  },
  {
   "cell_type": "code",
   "execution_count": 321,
   "metadata": {},
   "outputs": [
    {
     "name": "stdout",
     "output_type": "stream",
     "text": [
      "A =\n",
      "[[1 2]\n",
      " [3 4]]\n",
      "B =\n",
      "[[1 3]\n",
      " [2 4]]\n"
     ]
    }
   ],
   "source": [
    "A = np.array([[1,2],[3,4]])\n",
    "print(\"A =\"); print(A)\n",
    "B = A.T\n",
    "print(\"B =\"); print(B)"
   ]
  },
  {
   "cell_type": "markdown",
   "metadata": {},
   "source": [
    "## Diagonal matrix\n",
    "\n",
    "Create\n",
    "\n",
    "$$\n",
    "A = \\begin{bmatrix}\n",
    "1 & 0 & 0 & 0 \\\\\n",
    "0 & 2 & 0 & 0 \\\\\n",
    "0 & 0 & 3 & 0 \\\\\n",
    "0 & 0 & 0 & 4 \\end{bmatrix}\n",
    "$$"
   ]
  },
  {
   "cell_type": "code",
   "execution_count": 322,
   "metadata": {},
   "outputs": [
    {
     "name": "stdout",
     "output_type": "stream",
     "text": [
      "[[1 0 0 0]\n",
      " [0 2 0 0]\n",
      " [0 0 3 0]\n",
      " [0 0 0 4]]\n"
     ]
    }
   ],
   "source": [
    "a = np.array([1,2,3,4])    # diagonal elements\n",
    "A = np.diag(a)\n",
    "print(A)"
   ]
  },
  {
   "cell_type": "markdown",
   "metadata": {},
   "source": [
    "Create $n \\times n$ tri-diagonal matrix"
   ]
  },
  {
   "cell_type": "code",
   "execution_count": 323,
   "metadata": {},
   "outputs": [
    {
     "name": "stdout",
     "output_type": "stream",
     "text": [
      "[[ 4 -1  0  0]\n",
      " [ 1  5 -2  0]\n",
      " [ 0  2  6 -3]\n",
      " [ 0  0  3  7]]\n"
     ]
    }
   ],
   "source": [
    "a = np.array([1,2,3])    # sub-diagonal  : length = n-1\n",
    "b = np.array([4,5,6,7])  # main diagonal : length = n\n",
    "c = np.array([-1,-2,-3]) # super-diagonal: length = n-1\n",
    "A = np.diag(a,-1) + np.diag(b,0) + np.diag(c,+1)\n",
    "print(A)"
   ]
  },
  {
   "cell_type": "markdown",
   "metadata": {},
   "source": [
    "## empty_like, etc.\n",
    "\n",
    "Sometimes we have an existing array and we want to create a new array of the same shape and type, but without initializing its elements."
   ]
  },
  {
   "cell_type": "code",
   "execution_count": 324,
   "metadata": {},
   "outputs": [
    {
     "name": "stdout",
     "output_type": "stream",
     "text": [
      "(2, 3) (2, 3)\n"
     ]
    }
   ],
   "source": [
    "A = np.random.rand(2,3)\n",
    "B = np.empty_like(A)\n",
    "print(A.shape,B.shape)"
   ]
  },
  {
   "cell_type": "code",
   "execution_count": 325,
   "metadata": {},
   "outputs": [
    {
     "name": "stdout",
     "output_type": "stream",
     "text": [
      "[[0. 0. 0.]\n",
      " [0. 0. 0.]]\n"
     ]
    }
   ],
   "source": [
    "C = np.zeros_like(A)\n",
    "print(C)"
   ]
  },
  {
   "cell_type": "code",
   "execution_count": 326,
   "metadata": {},
   "outputs": [
    {
     "name": "stdout",
     "output_type": "stream",
     "text": [
      "[[1. 1. 1.]\n",
      " [1. 1. 1.]]\n"
     ]
    }
   ],
   "source": [
    "D = np.ones_like(A)\n",
    "print(D)"
   ]
  },
  {
   "cell_type": "markdown",
   "metadata": {},
   "source": [
    "## 1-D array is neither row nor column vector"
   ]
  },
  {
   "cell_type": "code",
   "execution_count": 327,
   "metadata": {},
   "outputs": [
    {
     "name": "stdout",
     "output_type": "stream",
     "text": [
      "(3,) [1 2 3]\n",
      "(3,) [1 2 3]\n"
     ]
    }
   ],
   "source": [
    "x = np.array([1,2,3])\n",
    "print(x.shape, x)\n",
    "y = x.T\n",
    "print(y.shape, y)"
   ]
  },
  {
   "cell_type": "markdown",
   "metadata": {},
   "source": [
    "Create a row vector"
   ]
  },
  {
   "cell_type": "code",
   "execution_count": 328,
   "metadata": {},
   "outputs": [
    {
     "name": "stdout",
     "output_type": "stream",
     "text": [
      "x.shape = (1, 3)\n",
      "[[1 2 3]]\n",
      "y.shape = (3, 1)\n",
      "[[1]\n",
      " [2]\n",
      " [3]]\n"
     ]
    }
   ],
   "source": [
    "x = np.array([[1,2,3]]) # row vector\n",
    "print('x.shape =',x.shape)\n",
    "print(x)\n",
    "y = x.T\n",
    "print('y.shape =',y.shape)\n",
    "print(y)"
   ]
  },
  {
   "cell_type": "markdown",
   "metadata": {},
   "source": [
    "Create a column vector"
   ]
  },
  {
   "cell_type": "code",
   "execution_count": 329,
   "metadata": {
    "scrolled": true
   },
   "outputs": [
    {
     "name": "stdout",
     "output_type": "stream",
     "text": [
      "x.shape = (3, 1)\n",
      "[[1]\n",
      " [2]\n",
      " [3]]\n",
      "y.shape = (1, 3)\n",
      "[[1 2 3]]\n"
     ]
    }
   ],
   "source": [
    "x = np.array([[1],\n",
    "              [2],\n",
    "              [3]]) # column vector\n",
    "print('x.shape =',x.shape)\n",
    "print(x)\n",
    "y = x.T\n",
    "print('y.shape =',y.shape)\n",
    "print(y)"
   ]
  },
  {
   "cell_type": "markdown",
   "metadata": {},
   "source": [
    "Functions like `zeros` and `ones` can return row/column vector rather than array."
   ]
  },
  {
   "cell_type": "code",
   "execution_count": 330,
   "metadata": {
    "scrolled": true
   },
   "outputs": [
    {
     "name": "stdout",
     "output_type": "stream",
     "text": [
      "x =\n",
      "[[1.]\n",
      " [1.]\n",
      " [1.]]\n",
      "y =\n",
      "[[1. 1. 1.]]\n"
     ]
    }
   ],
   "source": [
    "x = np.ones((3,1)) # column vector\n",
    "print('x ='); print(x)\n",
    "y = np.ones((1,3)) # row vector\n",
    "print('y ='); print(y)"
   ]
  },
  {
   "cell_type": "markdown",
   "metadata": {},
   "source": [
    "Row/column vectors are like row/column matrix. We have to use two indices to access the elements of such row/column vectors.\n",
    "\n",
    "Here we access elements of a column vector."
   ]
  },
  {
   "cell_type": "code",
   "execution_count": 331,
   "metadata": {},
   "outputs": [
    {
     "name": "stdout",
     "output_type": "stream",
     "text": [
      "1.0\n",
      "1.0\n",
      "1.0\n"
     ]
    }
   ],
   "source": [
    "print(x[0][0])  # or x[0,0] \n",
    "print(x[1][0])\n",
    "print(x[2][0])"
   ]
  },
  {
   "cell_type": "markdown",
   "metadata": {},
   "source": [
    "`x[0]` gives an array for the first row."
   ]
  },
  {
   "cell_type": "code",
   "execution_count": 332,
   "metadata": {},
   "outputs": [
    {
     "name": "stdout",
     "output_type": "stream",
     "text": [
      "First row of x       = [1.] <class 'numpy.ndarray'>\n",
      "Element in first row = 1.0 <class 'numpy.float64'>\n"
     ]
    }
   ],
   "source": [
    "print('First row of x       =',x[0], type(x[0]))\n",
    "print('Element in first row =',x[0][0], type(x[0][0]))"
   ]
  },
  {
   "cell_type": "markdown",
   "metadata": {},
   "source": [
    "## Accessing portions of arrays\n",
    "Array of 10 elements\n",
    "\n",
    "| x[0] | x[1] | x[2] | x[3] | x[4] | x[5] | x[6] | x[7] | x[8] | x[9] |\n",
    "|:----:|:----:|:----:|:----:|:----:|:----:|:----:|:----:|:----:|:----:|\n",
    "| 0    | 1    | 2    | 3    | 4    | 5    | 6    | 7    | 8    | 9    |\n",
    "|x[-10]| x[-9]| x[-8]| x[-7]| x[-6]| x[-5]| x[-4]| x[-3]| x[-2]|x[-1] |\n"
   ]
  },
  {
   "cell_type": "code",
   "execution_count": 333,
   "metadata": {},
   "outputs": [
    {
     "name": "stdout",
     "output_type": "stream",
     "text": [
      "[0. 1. 2. 3. 4. 5. 6. 7. 8. 9.]\n"
     ]
    }
   ],
   "source": [
    "x = np.linspace(0,9,10)\n",
    "print(x)"
   ]
  },
  {
   "cell_type": "markdown",
   "metadata": {},
   "source": [
    "Get elements ```x[2],...,x[5]```"
   ]
  },
  {
   "cell_type": "code",
   "execution_count": 334,
   "metadata": {},
   "outputs": [
    {
     "name": "stdout",
     "output_type": "stream",
     "text": [
      "[2. 3. 4. 5.]\n"
     ]
    }
   ],
   "source": [
    "print(x[2:6])"
   ]
  },
  {
   "cell_type": "markdown",
   "metadata": {},
   "source": [
    "Hence ```x[m:n]``` gives the elements ```x[m],x[m+1],...,x[n-1]```.\n",
    "\n",
    "Get elements from ```x[5]``` upto the last element"
   ]
  },
  {
   "cell_type": "code",
   "execution_count": 335,
   "metadata": {},
   "outputs": [
    {
     "name": "stdout",
     "output_type": "stream",
     "text": [
      "[5. 6. 7. 8. 9.]\n"
     ]
    }
   ],
   "source": [
    "print(x[5:])"
   ]
  },
  {
   "cell_type": "markdown",
   "metadata": {},
   "source": [
    "Get the last element"
   ]
  },
  {
   "cell_type": "code",
   "execution_count": 336,
   "metadata": {},
   "outputs": [
    {
     "name": "stdout",
     "output_type": "stream",
     "text": [
      "9.0\n"
     ]
    }
   ],
   "source": [
    "print(x[-1])"
   ]
  },
  {
   "cell_type": "markdown",
   "metadata": {},
   "source": [
    "Get element ```x[5]``` upto last but one element"
   ]
  },
  {
   "cell_type": "code",
   "execution_count": 337,
   "metadata": {},
   "outputs": [
    {
     "name": "stdout",
     "output_type": "stream",
     "text": [
      "[5. 6. 7. 8.]\n"
     ]
    }
   ],
   "source": [
    "print(x[5:-1])"
   ]
  },
  {
   "cell_type": "markdown",
   "metadata": {},
   "source": [
    "Access every alternate element of array starting from beginning `x[0]`"
   ]
  },
  {
   "cell_type": "code",
   "execution_count": 338,
   "metadata": {},
   "outputs": [
    {
     "name": "stdout",
     "output_type": "stream",
     "text": [
      "[0. 2. 4. 6. 8.]\n"
     ]
    }
   ],
   "source": [
    "print(x[0::2])"
   ]
  },
  {
   "cell_type": "markdown",
   "metadata": {},
   "source": [
    "and starting from `x[1]`"
   ]
  },
  {
   "cell_type": "code",
   "execution_count": 339,
   "metadata": {},
   "outputs": [
    {
     "name": "stdout",
     "output_type": "stream",
     "text": [
      "[1. 3. 5. 7. 9.]\n"
     ]
    }
   ],
   "source": [
    "print(x[1::2])"
   ]
  },
  {
   "cell_type": "markdown",
   "metadata": {},
   "source": [
    "These operations work on multi dimensional arrays also."
   ]
  },
  {
   "cell_type": "code",
   "execution_count": 340,
   "metadata": {},
   "outputs": [
    {
     "name": "stdout",
     "output_type": "stream",
     "text": [
      "[[0.67516742 0.65641833 0.18000764 0.91555678]\n",
      " [0.4898553  0.43620918 0.86570432 0.37888618]\n",
      " [0.32044994 0.27808184 0.82365366 0.62678897]]\n"
     ]
    }
   ],
   "source": [
    "A = np.random.rand(3,4)\n",
    "print(A)"
   ]
  },
  {
   "cell_type": "code",
   "execution_count": 341,
   "metadata": {},
   "outputs": [
    {
     "name": "stdout",
     "output_type": "stream",
     "text": [
      "[0.67516742 0.65641833 0.18000764 0.91555678]\n"
     ]
    }
   ],
   "source": [
    "print(A[0,:]) # 0'th row"
   ]
  },
  {
   "cell_type": "code",
   "execution_count": 342,
   "metadata": {},
   "outputs": [
    {
     "name": "stdout",
     "output_type": "stream",
     "text": [
      "[0.67516742 0.4898553  0.32044994]\n"
     ]
    }
   ],
   "source": [
    "print(A[:,0]) # 0'th column"
   ]
  },
  {
   "cell_type": "code",
   "execution_count": 343,
   "metadata": {},
   "outputs": [
    {
     "name": "stdout",
     "output_type": "stream",
     "text": [
      "[[0.67516742 0.65641833 0.18000764]\n",
      " [0.4898553  0.43620918 0.86570432]]\n"
     ]
    }
   ],
   "source": [
    "print(A[0:2,0:3]) # print submatrix"
   ]
  },
  {
   "cell_type": "code",
   "execution_count": 344,
   "metadata": {},
   "outputs": [
    {
     "name": "stdout",
     "output_type": "stream",
     "text": [
      "[[0.         0.         0.         0.        ]\n",
      " [0.4898553  0.43620918 0.86570432 0.37888618]\n",
      " [0.32044994 0.27808184 0.82365366 0.62678897]]\n"
     ]
    }
   ],
   "source": [
    "A[0,:] = 0.0 # zero out zeroth row\n",
    "print(A)"
   ]
  },
  {
   "cell_type": "markdown",
   "metadata": {},
   "source": [
    "## Arithmetic operations on arrays"
   ]
  },
  {
   "cell_type": "markdown",
   "metadata": {},
   "source": [
    "Some arithmetic operations act element-wise"
   ]
  },
  {
   "cell_type": "code",
   "execution_count": 345,
   "metadata": {},
   "outputs": [
    {
     "name": "stdout",
     "output_type": "stream",
     "text": [
      "[ 4. 10. 18.]\n"
     ]
    }
   ],
   "source": [
    "x = np.array([1.0, 2.0, 3.0])\n",
    "y = np.array([4.0, 5.0, 6.0])\n",
    "print(x*y)  # multiply"
   ]
  },
  {
   "cell_type": "code",
   "execution_count": 346,
   "metadata": {},
   "outputs": [
    {
     "name": "stdout",
     "output_type": "stream",
     "text": [
      "[0.25 0.4  0.5 ]\n"
     ]
    }
   ],
   "source": [
    "print(x/y)  # divide"
   ]
  },
  {
   "cell_type": "code",
   "execution_count": 347,
   "metadata": {},
   "outputs": [
    {
     "name": "stdout",
     "output_type": "stream",
     "text": [
      "[  4.  25. 216.]\n"
     ]
    }
   ],
   "source": [
    "print(y**x) # exponentiation"
   ]
  },
  {
   "cell_type": "code",
   "execution_count": 348,
   "metadata": {},
   "outputs": [
    {
     "name": "stdout",
     "output_type": "stream",
     "text": [
      "[[1. 2. 3.]\n",
      " [1. 2. 3.]\n",
      " [1. 2. 3.]]\n"
     ]
    }
   ],
   "source": [
    "A = np.ones((3,3))\n",
    "print(A*x)"
   ]
  },
  {
   "cell_type": "markdown",
   "metadata": {},
   "source": [
    "If ```A``` and ```x``` are arrays, then ```A*x``` does not give matrix-vector product. For that use ```dot```"
   ]
  },
  {
   "cell_type": "code",
   "execution_count": 349,
   "metadata": {},
   "outputs": [
    {
     "name": "stdout",
     "output_type": "stream",
     "text": [
      "[6. 6. 6.]\n"
     ]
    }
   ],
   "source": [
    "print(A.dot(x))"
   ]
  },
  {
   "cell_type": "markdown",
   "metadata": {},
   "source": [
    "or equivalently"
   ]
  },
  {
   "cell_type": "code",
   "execution_count": 350,
   "metadata": {},
   "outputs": [
    {
     "name": "stdout",
     "output_type": "stream",
     "text": [
      "[6. 6. 6.]\n"
     ]
    }
   ],
   "source": [
    "print(np.dot(A,x))"
   ]
  },
  {
   "cell_type": "markdown",
   "metadata": {},
   "source": [
    "In Python3 versions, we can use `@` to achieve matrix operations"
   ]
  },
  {
   "cell_type": "code",
   "execution_count": 351,
   "metadata": {},
   "outputs": [
    {
     "name": "stdout",
     "output_type": "stream",
     "text": [
      "[6. 6. 6.]\n"
     ]
    }
   ],
   "source": [
    "print(A@x)"
   ]
  },
  {
   "cell_type": "markdown",
   "metadata": {},
   "source": [
    "We can of course do matrix-matrix products using ```dot``` or ```@```"
   ]
  },
  {
   "cell_type": "code",
   "execution_count": 352,
   "metadata": {},
   "outputs": [
    {
     "name": "stdout",
     "output_type": "stream",
     "text": [
      "A =\n",
      " [[1. 1. 1.]\n",
      " [1. 1. 1.]\n",
      " [1. 1. 1.]]\n",
      "B =\n",
      " [[2. 2. 2.]\n",
      " [2. 2. 2.]\n",
      " [2. 2. 2.]]\n",
      "A*B =\n",
      " [[6. 6. 6.]\n",
      " [6. 6. 6.]\n",
      " [6. 6. 6.]]\n"
     ]
    }
   ],
   "source": [
    "A = np.ones((3,3))\n",
    "B = 2*A\n",
    "print('A =\\n',A)\n",
    "print('B =\\n',B)\n",
    "print('A*B =\\n',A@B)"
   ]
  },
  {
   "cell_type": "markdown",
   "metadata": {},
   "source": [
    "On vectors, `@` performs dot product, i.e., `x@y = dot(x,y)`"
   ]
  },
  {
   "cell_type": "code",
   "execution_count": 353,
   "metadata": {},
   "outputs": [
    {
     "name": "stdout",
     "output_type": "stream",
     "text": [
      "9\n"
     ]
    }
   ],
   "source": [
    "x = np.array([1,1,1])\n",
    "y = np.array([2,3,4])\n",
    "print(x@y)"
   ]
  },
  {
   "cell_type": "markdown",
   "metadata": {},
   "source": [
    "## Some matrix/vector functions"
   ]
  },
  {
   "cell_type": "code",
   "execution_count": 354,
   "metadata": {},
   "outputs": [
    {
     "name": "stdout",
     "output_type": "stream",
     "text": [
      "min     =  -3\n",
      "max     =  3\n",
      "abs min =  0\n",
      "abs max =  3\n",
      "sum     =  0\n",
      "dot     =  28\n",
      "dot     =  28\n"
     ]
    }
   ],
   "source": [
    "x = np.array([-3,-2,-1,0,1,2,3])\n",
    "print('min     = ',np.min(x))\n",
    "print('max     = ',np.max(x))\n",
    "print('abs min = ',np.abs(x).min()) # np.min(np.abs(x))\n",
    "print('abs max = ',np.abs(x).max()) # np.max(np.abs(x))\n",
    "print('sum     = ',np.sum(x))\n",
    "print('dot     = ',np.dot(x,x)) \n",
    "print('dot     = ',np.sum(x*x))"
   ]
  },
  {
   "cell_type": "markdown",
   "metadata": {},
   "source": [
    "Note that `np.sum(x*x)` gives\n",
    "\n",
    "$$\n",
    "\\sum_{i=0}^{n-1} x_i^2\n",
    "$$\n",
    "\n",
    "We can compute vector norms using [numpy.linalg.norm](https://numpy.org/doc/stable/reference/generated/numpy.linalg.norm.html) (also see [scipy.linalg.norm](https://docs.scipy.org/doc/scipy/reference/generated/scipy.linalg.norm.html))"
   ]
  },
  {
   "cell_type": "code",
   "execution_count": 355,
   "metadata": {},
   "outputs": [
    {
     "name": "stdout",
     "output_type": "stream",
     "text": [
      "5.291502622129181\n",
      "5.291502622129181\n",
      "12.0\n",
      "3.0\n"
     ]
    }
   ],
   "source": [
    "from numpy.linalg import norm\n",
    "print(norm(x))        # L2 norm\n",
    "print(norm(x,2))      # L2 norm\n",
    "print(norm(x,1))      # L1 norm\n",
    "print(norm(x,np.inf)) # Linf norm"
   ]
  },
  {
   "cell_type": "markdown",
   "metadata": {},
   "source": [
    "or import the `linalg` module and use methods inside it."
   ]
  },
  {
   "cell_type": "code",
   "execution_count": 356,
   "metadata": {},
   "outputs": [
    {
     "name": "stdout",
     "output_type": "stream",
     "text": [
      "5.291502622129181\n",
      "5.291502622129181\n",
      "12.0\n",
      "3.0\n"
     ]
    }
   ],
   "source": [
    "import numpy.linalg as la\n",
    "print(la.norm(x))        # L2 norm\n",
    "print(la.norm(x,2))      # L2 norm\n",
    "print(la.norm(x,1))      # L1 norm\n",
    "print(la.norm(x,np.inf)) # Linf norm"
   ]
  },
  {
   "cell_type": "markdown",
   "metadata": {},
   "source": [
    "These methods work on 2-d arrays treated as matrices."
   ]
  },
  {
   "cell_type": "code",
   "execution_count": 357,
   "metadata": {},
   "outputs": [
    {
     "name": "stdout",
     "output_type": "stream",
     "text": [
      "[[ 0.37352617  0.13356492 -0.91682941]\n",
      " [ 0.22036507 -0.30068139 -0.26768978]\n",
      " [-0.23480247  0.45063237  0.91731271]]\n"
     ]
    }
   ],
   "source": [
    "A = 2*np.random.rand(3,3) - 1\n",
    "print(A)"
   ]
  },
  {
   "cell_type": "code",
   "execution_count": 358,
   "metadata": {},
   "outputs": [
    {
     "name": "stdout",
     "output_type": "stream",
     "text": [
      "min       =  -0.9168294120915046\n",
      "max       =  0.9173127084338863\n",
      "abs min   =  0.1335649248002886\n",
      "abs max   =  0.9173127084338863\n",
      "sum       =  0.37539819518439477\n",
      "Frob norm =  1.5192859461260488\n",
      "L1 norm   =  2.101831904631908\n",
      "L2 norm   =  1.4355862228820715\n",
      "Linf norm =  1.602747548328199\n"
     ]
    }
   ],
   "source": [
    "print('min       = ',np.min(A))\n",
    "print('max       = ',np.max(A))\n",
    "print('abs min   = ',np.abs(A).min()) # np.min(np.abs(x))\n",
    "print('abs max   = ',np.abs(A).max()) # np.max(np.abs(x))\n",
    "print('sum       = ',np.sum(A))\n",
    "print('Frob norm = ',la.norm(A))        # Frobenius norm\n",
    "print('L1 norm   = ',la.norm(A,1))      # L1 norm\n",
    "print('L2 norm   = ',la.norm(A,2))      # L2 norm\n",
    "print('Linf norm = ',la.norm(A,np.inf)) # Linf norm"
   ]
  },
  {
   "cell_type": "markdown",
   "metadata": {},
   "source": [
    "## Example: Matrix-vector product"
   ]
  },
  {
   "cell_type": "markdown",
   "metadata": {},
   "source": [
    "Let\n",
    "\n",
    "$$\n",
    "x \\in \\re^n, \\qquad A \\in \\re^{m \\times n}, \\qquad y = A x \\in \\re^m\n",
    "$$\n",
    "\n",
    "We can compute this element-wise\n",
    "\n",
    "$$\n",
    "y_i = \\sum_{j=0}^{n-1} A_{ij} x_j, \\qquad 0 \\le i \\le m-1\n",
    "$$"
   ]
  },
  {
   "cell_type": "code",
   "execution_count": 359,
   "metadata": {},
   "outputs": [],
   "source": [
    "m, n = 5, 10\n",
    "x = np.random.rand(n)\n",
    "A = np.random.rand(m,n)\n",
    "y = np.zeros(m) # Important to set to zero\n",
    "assert A.shape[1] == len(x) and len(y) == A.shape[0]\n",
    "for i in range(m):\n",
    "    for j in range(n):\n",
    "        y[i] += A[i,j]*x[j]"
   ]
  },
  {
   "cell_type": "markdown",
   "metadata": {},
   "source": [
    "We can verify that our result is correct by computing $\\| y - A x\\|_\\infty$"
   ]
  },
  {
   "cell_type": "code",
   "execution_count": 360,
   "metadata": {},
   "outputs": [
    {
     "name": "stdout",
     "output_type": "stream",
     "text": [
      "2.220446049250313e-16\n"
     ]
    }
   ],
   "source": [
    "print(np.linalg.norm(y-A@x, np.inf))"
   ]
  },
  {
   "cell_type": "markdown",
   "metadata": {},
   "source": [
    "We can also compute the product column-wise. Let\n",
    "\n",
    "$$\n",
    "A_{:,j} = \\textrm{j'th column of A} \\in \\re^m\n",
    "$$\n",
    "\n",
    "Then the matrix-vector product can also be written as\n",
    "\n",
    "$$\n",
    "y = \\sum_{j=0}^{n-1} A_{:,j} x_j\n",
    "$$\n",
    "\n",
    "**Warning**: This may have inefficient memory access since by default, numpy arrays have column-major ordering, see below."
   ]
  },
  {
   "cell_type": "code",
   "execution_count": 361,
   "metadata": {},
   "outputs": [
    {
     "name": "stdout",
     "output_type": "stream",
     "text": [
      "2.220446049250313e-16\n"
     ]
    }
   ],
   "source": [
    "y[:] = 0.0\n",
    "for j in range(n):\n",
    "    y += A[:,j]*x[j]\n",
    "\n",
    "# Now check the result\n",
    "print(np.linalg.norm(y-A@x, np.inf))"
   ]
  },
  {
   "cell_type": "markdown",
   "metadata": {},
   "source": [
    "## Example: Matrix-Matrix product"
   ]
  },
  {
   "cell_type": "markdown",
   "metadata": {},
   "source": [
    "If $A \\in \\re^{m\\times n}$ and $B \\in \\re^{n \\times p}$ then $C = AB \\in \\re^{m \\times p}$ is given by\n",
    "\n",
    "$$\n",
    "C_{ij} = \\sum_{k=0}^{n-1} A_{ik} B_{kj}, \\qquad 0 \\le i \\le m-1, \\quad 0 \\le j \\le p-1\n",
    "$$"
   ]
  },
  {
   "cell_type": "code",
   "execution_count": 362,
   "metadata": {},
   "outputs": [],
   "source": [
    "m,n,p = 10,8,6\n",
    "A = np.random.rand(m,n)\n",
    "B = np.random.rand(n,p)\n",
    "C = np.zeros((m,p))\n",
    "assert A.shape[1] == B.shape[0]\n",
    "for i in range(m):\n",
    "    for j in range(p):\n",
    "        for k in range(n):\n",
    "            C[i,j] += A[i,k]*B[k,j]"
   ]
  },
  {
   "cell_type": "markdown",
   "metadata": {},
   "source": [
    "Let us verify the result is correct by computing\n",
    "\n",
    "$$\n",
    "|C-AB|_\\infty = \\max_{i,j} |C_{ij} - (AB)_{ij}|\n",
    "$$\n",
    "\n",
    "using `@` operator"
   ]
  },
  {
   "cell_type": "code",
   "execution_count": 363,
   "metadata": {},
   "outputs": [
    {
     "name": "stdout",
     "output_type": "stream",
     "text": [
      "4.440892098500626e-16\n"
     ]
    }
   ],
   "source": [
    "print(np.abs(C - A@B).max())"
   ]
  },
  {
   "cell_type": "markdown",
   "metadata": {},
   "source": [
    "Another view-point is the following\n",
    "\n",
    "$$\n",
    "C_{ij} = (\\textrm{i'th row of A}) \\cdot (\\textrm{j'th column of B})\n",
    "$$"
   ]
  },
  {
   "cell_type": "code",
   "execution_count": 364,
   "metadata": {
    "scrolled": true
   },
   "outputs": [
    {
     "name": "stdout",
     "output_type": "stream",
     "text": [
      "0.0\n"
     ]
    }
   ],
   "source": [
    "for i in range(m):\n",
    "    for j in range(p):\n",
    "        C[i,j] = A[i,:] @ B[:,j]\n",
    "\n",
    "# Now check the result\n",
    "print(np.abs(C - A@B).max())"
   ]
  },
  {
   "cell_type": "markdown",
   "metadata": {},
   "source": [
    "## Outer product of two vectors\n",
    "\n",
    "Given $a \\in \\re^m$ and $b \\in \\re^n$, both considered as column vectors, their outer product\n",
    "\n",
    "$$\n",
    "A = a b^\\top = \n",
    "\\begin{bmatrix} \n",
    "| \\\\\n",
    "a \\\\\n",
    "|\n",
    "\\end{bmatrix} \n",
    "\\begin{bmatrix}\n",
    "- b^\\top -\n",
    "\\end{bmatrix}\n",
    "=\n",
    "\\begin{bmatrix} \n",
    "|     &  |    &        & | \\\\\n",
    "a b_0 & a b_1 & \\ldots & a b_{n-1} \\\\\n",
    "|     &  |    &        & | \n",
    "\\end{bmatrix} \\in \\re^{m \\times n}\n",
    "$$\n",
    "\n",
    "is an $m \\times n$ matrix with elements\n",
    "\n",
    "$$\n",
    "A_{ij} = a_i b_j, \\qquad 0 \\le i \\le m-1, \\quad 0 \\le j \\le n-1\n",
    "$$"
   ]
  },
  {
   "cell_type": "code",
   "execution_count": 365,
   "metadata": {},
   "outputs": [
    {
     "name": "stdout",
     "output_type": "stream",
     "text": [
      "A.shape =  (3, 2)\n",
      "A = \n",
      " [[1 2]\n",
      " [2 4]\n",
      " [3 6]]\n"
     ]
    }
   ],
   "source": [
    "a = np.array([1,2,3])\n",
    "b = np.array([1,2])\n",
    "A = np.outer(a,b)\n",
    "print('A.shape = ', A.shape)\n",
    "print('A = \\n', A)"
   ]
  },
  {
   "cell_type": "markdown",
   "metadata": {},
   "source": [
    "## Math functions\n",
    "\n",
    "Numpy provides standard functions like `sin`, `cos`, `log`, etc. which can act on arrays in an element-by-element manner. This is not the case for functions in `math` module, which can only take scalar arguments."
   ]
  },
  {
   "cell_type": "code",
   "execution_count": 366,
   "metadata": {},
   "outputs": [
    {
     "name": "stdout",
     "output_type": "stream",
     "text": [
      "x = [0.         1.57079633 3.14159265 4.71238898 6.28318531]\n",
      "y = [ 0.0000000e+00  1.0000000e+00  1.2246468e-16 -1.0000000e+00\n",
      " -2.4492936e-16]\n"
     ]
    }
   ],
   "source": [
    "x = np.linspace(0.0, 2.0*np.pi, 5)\n",
    "y = np.sin(x)\n",
    "print('x =',x)\n",
    "print('y =',y)"
   ]
  },
  {
   "cell_type": "code",
   "execution_count": 367,
   "metadata": {},
   "outputs": [
    {
     "name": "stdout",
     "output_type": "stream",
     "text": [
      "A =\n",
      " [[8.16701211e-02 6.77962422e-01 6.90653634e-04 7.93884814e-02\n",
      "  8.60592310e-01]\n",
      " [6.98716429e-01 2.42954036e-01 1.65272945e-01 1.70876906e-01\n",
      "  9.08935927e-01]\n",
      " [7.11562304e-01 5.38264997e-01 4.77970468e-01 1.03660512e-01\n",
      "  4.17087210e-01]\n",
      " [9.32208138e-03 7.85390674e-01 2.34119158e-01 9.74499303e-01\n",
      "  1.25072698e-01]\n",
      " [6.60534599e-01 8.56370286e-01 8.17476274e-01 5.20077004e-02\n",
      "  1.97797590e-01]]\n",
      "Y =\n",
      " [[8.15793613e-02 6.27207354e-01 6.90653579e-04 7.93051163e-02\n",
      "  7.58228875e-01]\n",
      " [6.43235427e-01 2.40570952e-01 1.64521563e-01 1.70046549e-01\n",
      "  7.88850223e-01]\n",
      " [6.53017767e-01 5.12647092e-01 4.59978041e-01 1.03474964e-01\n",
      "  4.05099091e-01]\n",
      " [9.32194637e-03 7.07101485e-01 2.31986263e-01 8.27420809e-01\n",
      "  1.24746864e-01]\n",
      " [6.13539094e-01 7.55469415e-01 7.29421764e-01 5.19842585e-02\n",
      "  1.96510343e-01]]\n"
     ]
    }
   ],
   "source": [
    "A = np.random.rand(5,5) # 5x5 matrix\n",
    "Y = np.sin(A)\n",
    "print('A =\\n',A)\n",
    "print('Y =\\n',Y)"
   ]
  },
  {
   "cell_type": "markdown",
   "metadata": {},
   "source": [
    "## Memory ordering in arrays*\n",
    "By default, the ordering is same as in C/C++, the inner-most index is the fastest running one. For example, if we have an array of size (2,3), they are stored in memory in this order\n",
    "\n",
    "```\n",
    "a[0,0], a[0,1], a[0,2], a[1,0], a[1,1], a[1,2]\n",
    "```\n",
    "\n",
    "i.e.,\n",
    "\n",
    "```\n",
    "a[0,0] --> a[0,1] --> a[0,2]\n",
    "                         |\n",
    "   |----------<----------|\n",
    "   |\n",
    "a[1,0] --> a[1,1] --> a[1,2]\n",
    "```"
   ]
  },
  {
   "cell_type": "code",
   "execution_count": 368,
   "metadata": {},
   "outputs": [
    {
     "name": "stdout",
     "output_type": "stream",
     "text": [
      "Row contiguous = True\n",
      "Col contiguous = False\n"
     ]
    },
    {
     "data": {
      "text/plain": [
       "  C_CONTIGUOUS : True\n",
       "  F_CONTIGUOUS : False\n",
       "  OWNDATA : True\n",
       "  WRITEABLE : True\n",
       "  ALIGNED : True\n",
       "  WRITEBACKIFCOPY : False"
      ]
     },
     "execution_count": 368,
     "metadata": {},
     "output_type": "execute_result"
    }
   ],
   "source": [
    "a = np.array([[1,2,3], [4,5,6]])\n",
    "print('Row contiguous =', a[0,:].data.contiguous)\n",
    "print('Col contiguous =', a[:,0].data.contiguous)\n",
    "a.flags"
   ]
  },
  {
   "cell_type": "markdown",
   "metadata": {},
   "source": [
    "To get fortran style ordering, where the outer-most index is the fastest running one, which corresponds to the following layout in memory\n",
    "\n",
    "```\n",
    "a[0,0], a[1,0], a[0,1], a[1,1], a[0,2], a[1,2]\n",
    "```\n",
    "\n",
    "i.e.,\n",
    "\n",
    "```\n",
    "a[0,0]    -- a[0,1]    -- a[0,2]\n",
    "   |     |     |      |      |  \n",
    "   v     ^     v      ^      v\n",
    "   |     |     |      |      |\n",
    "a[1,0] --    a[1,1] --    a[1,2]\n",
    "```\n",
    "\n",
    "create like this"
   ]
  },
  {
   "cell_type": "code",
   "execution_count": 369,
   "metadata": {},
   "outputs": [
    {
     "name": "stdout",
     "output_type": "stream",
     "text": [
      "Row contiguous = False\n",
      "Col contiguous = True\n"
     ]
    },
    {
     "data": {
      "text/plain": [
       "  C_CONTIGUOUS : False\n",
       "  F_CONTIGUOUS : True\n",
       "  OWNDATA : True\n",
       "  WRITEABLE : True\n",
       "  ALIGNED : True\n",
       "  WRITEBACKIFCOPY : False"
      ]
     },
     "execution_count": 369,
     "metadata": {},
     "output_type": "execute_result"
    }
   ],
   "source": [
    "b = np.array([[1,2,3], [4,5,6]], order='F')\n",
    "print('Row contiguous =', b[0,:].data.contiguous)\n",
    "print('Col contiguous =', b[:,0].data.contiguous)\n",
    "b.flags"
   ]
  },
  {
   "cell_type": "markdown",
   "metadata": {},
   "source": [
    "## Tensor product array: meshgrid"
   ]
  },
  {
   "cell_type": "code",
   "execution_count": 370,
   "metadata": {},
   "outputs": [
    {
     "name": "stdout",
     "output_type": "stream",
     "text": [
      "len(x) =  4\n",
      "len(y) =  3\n",
      "shape X=  (3, 4)\n",
      "shape Y=  (3, 4)\n",
      "x =  [0. 1. 2. 3.]\n",
      "y =  [0. 1. 2.]\n",
      "X = \n",
      "[[0. 1. 2. 3.]\n",
      " [0. 1. 2. 3.]\n",
      " [0. 1. 2. 3.]]\n",
      "Y = \n",
      "[[0. 0. 0. 0.]\n",
      " [1. 1. 1. 1.]\n",
      " [2. 2. 2. 2.]]\n"
     ]
    }
   ],
   "source": [
    "x = np.linspace(0,3,4)\n",
    "y = np.linspace(0,2,3)\n",
    "X, Y = np.meshgrid(x,y)\n",
    "print('len(x) = ',len(x))\n",
    "print('len(y) = ',len(y))\n",
    "print('shape X= ',X.shape)\n",
    "print('shape Y= ',Y.shape)\n",
    "print('x = ', x)\n",
    "print('y = ', y)\n",
    "print('X = '); print(X)\n",
    "print('Y = '); print(Y)"
   ]
  },
  {
   "cell_type": "markdown",
   "metadata": {},
   "source": [
    "If $x \\in \\re^m$ and $y \\in \\re^n$, then the output of `meshgrid(x,y)` is arranged like this\n",
    "\n",
    "$$\n",
    "X[i,j] = x[j], \\qquad\n",
    "Y[i,j] = y[i], \\qquad 0 \\le i \\le n-1, \\quad 0 \\le j \\le m-1\n",
    "$$\n",
    "\n",
    "If we want the following arrangement\n",
    "\n",
    "$$\n",
    "X[i,j] = x[i], \\qquad\n",
    "Y[i,j] = y[j], \\qquad 0 \\le i \\le m-1, \\quad 0 \\le j \\le n-1\n",
    "$$\n",
    "\n",
    "we have to do the following"
   ]
  },
  {
   "cell_type": "code",
   "execution_count": 371,
   "metadata": {},
   "outputs": [
    {
     "name": "stdout",
     "output_type": "stream",
     "text": [
      "len(x) =  4\n",
      "len(y) =  3\n",
      "shape X=  (4, 3)\n",
      "shape Y=  (4, 3)\n"
     ]
    }
   ],
   "source": [
    "X, Y = np.meshgrid(x,y,indexing='ij')\n",
    "print('len(x) = ',len(x))\n",
    "print('len(y) = ',len(y))\n",
    "print('shape X= ',X.shape)\n",
    "print('shape Y= ',Y.shape)"
   ]
  },
  {
   "cell_type": "markdown",
   "metadata": {},
   "source": [
    "The second form is useful when working with finite difference schemes on Cartesian grids, where we want to use `i` index running along x-axis and `j` index running along y-axis."
   ]
  },
  {
   "cell_type": "markdown",
   "metadata": {},
   "source": [
    "## Reshaping arrays"
   ]
  },
  {
   "cell_type": "code",
   "execution_count": 372,
   "metadata": {},
   "outputs": [
    {
     "name": "stdout",
     "output_type": "stream",
     "text": [
      "[[1 2 3]\n",
      " [4 5 6]]\n"
     ]
    }
   ],
   "source": [
    "A = np.array([[1,2,3],\n",
    "              [4,5,6]])\n",
    "print(A)"
   ]
  },
  {
   "cell_type": "code",
   "execution_count": 373,
   "metadata": {},
   "outputs": [
    {
     "name": "stdout",
     "output_type": "stream",
     "text": [
      "[1 2 3 4 5 6]\n"
     ]
    }
   ],
   "source": [
    "B = np.reshape(A,2*3,order='C')\n",
    "print(B)"
   ]
  },
  {
   "cell_type": "code",
   "execution_count": 374,
   "metadata": {},
   "outputs": [
    {
     "name": "stdout",
     "output_type": "stream",
     "text": [
      "[[1 2 3]\n",
      " [4 5 6]]\n"
     ]
    }
   ],
   "source": [
    "A1 = np.reshape(B,(2,3),order='C')\n",
    "print(A1)"
   ]
  },
  {
   "cell_type": "code",
   "execution_count": 375,
   "metadata": {},
   "outputs": [
    {
     "name": "stdout",
     "output_type": "stream",
     "text": [
      "[1 4 2 5 3 6]\n"
     ]
    }
   ],
   "source": [
    "C = np.reshape(A,2*3,order='F')\n",
    "print(C)"
   ]
  },
  {
   "cell_type": "code",
   "execution_count": 376,
   "metadata": {},
   "outputs": [
    {
     "name": "stdout",
     "output_type": "stream",
     "text": [
      "[[1 2 3]\n",
      " [4 5 6]]\n"
     ]
    }
   ],
   "source": [
    "A2 = np.reshape(C,(2,3),order='F')\n",
    "print(A2)"
   ]
  },
  {
   "cell_type": "markdown",
   "metadata": {},
   "source": [
    "## [roll](https://numpy.org/doc/stable/reference/generated/numpy.roll.html) function: working with periodic arrays"
   ]
  },
  {
   "cell_type": "code",
   "execution_count": 377,
   "metadata": {},
   "outputs": [
    {
     "name": "stdout",
     "output_type": "stream",
     "text": [
      "[ 1  2  3  4  5  6  7  8  9 10]\n"
     ]
    }
   ],
   "source": [
    "v = np.arange(1,11)\n",
    "print(v)"
   ]
  },
  {
   "cell_type": "markdown",
   "metadata": {},
   "source": [
    "Shift array by one index to left and wrap it from right side."
   ]
  },
  {
   "cell_type": "code",
   "execution_count": 378,
   "metadata": {},
   "outputs": [
    {
     "name": "stdout",
     "output_type": "stream",
     "text": [
      "[ 2  3  4  5  6  7  8  9 10  1]\n"
     ]
    }
   ],
   "source": [
    "print(np.roll(v,-1))"
   ]
  },
  {
   "cell_type": "markdown",
   "metadata": {},
   "source": [
    "Shift array by one index to right and wrap it from left side."
   ]
  },
  {
   "cell_type": "code",
   "execution_count": 379,
   "metadata": {},
   "outputs": [
    {
     "name": "stdout",
     "output_type": "stream",
     "text": [
      "[10  1  2  3  4  5  6  7  8  9]\n"
     ]
    }
   ],
   "source": [
    "print(np.roll(v,1))"
   ]
  },
  {
   "cell_type": "markdown",
   "metadata": {},
   "source": [
    "Compute $u'(x)$ for \n",
    "\n",
    "$$\n",
    "u(x) = \\sin(x), \\qquad x \\in [0,2\\pi]\n",
    "$$\n",
    "\n",
    "using periodicity and central difference scheme\n",
    "\n",
    "$$\n",
    "w_j = \\frac{v_{j+1} - v_{j-1}}{2h}\n",
    "$$"
   ]
  },
  {
   "cell_type": "code",
   "execution_count": 380,
   "metadata": {},
   "outputs": [
    {
     "name": "stdout",
     "output_type": "stream",
     "text": [
      "Error in FD =  0.000657843760160759\n"
     ]
    }
   ],
   "source": [
    "N = 100\n",
    "h = 2*np.pi/N\n",
    "x = h * np.arange(1,N+1)\n",
    "v = np.sin(x)\n",
    "w = (np.roll(v,-1) - np.roll(v,1))/(2*h)\n",
    "error = np.abs(w - np.cos(x)).max()\n",
    "print(\"Error in FD = \", error)"
   ]
  },
  {
   "cell_type": "markdown",
   "metadata": {},
   "source": [
    "## Writing and reading files\n",
    "Write an array to file"
   ]
  },
  {
   "cell_type": "code",
   "execution_count": 381,
   "metadata": {},
   "outputs": [
    {
     "name": "stdout",
     "output_type": "stream",
     "text": [
      "[[0.99868267 0.58745768 0.01307748]\n",
      " [0.87306214 0.78732902 0.47328567]\n",
      " [0.65891191 0.73580927 0.77472373]]\n"
     ]
    }
   ],
   "source": [
    "A = np.random.rand(3,3)\n",
    "print(A)\n",
    "np.savetxt('A.txt',A)"
   ]
  },
  {
   "cell_type": "markdown",
   "metadata": {},
   "source": [
    "Check the contents of the file in your terminal\n",
    "```\n",
    "cat A.txt\n",
    "```\n",
    "We can also print it from within the notebook"
   ]
  },
  {
   "cell_type": "code",
   "execution_count": 382,
   "metadata": {},
   "outputs": [
    {
     "name": "stdout",
     "output_type": "stream",
     "text": [
      "9.986826733951886803e-01 5.874576818428451919e-01 1.307748170778288976e-02\n",
      "8.730621372927664936e-01 7.873290235731823516e-01 4.732856710374448994e-01\n",
      "6.589119138768811945e-01 7.358092748354801982e-01 7.747237333390134539e-01\n"
     ]
    }
   ],
   "source": [
    "!cat A.txt"
   ]
  },
  {
   "cell_type": "markdown",
   "metadata": {},
   "source": [
    "Write two 1-D arrays as columns into file"
   ]
  },
  {
   "cell_type": "code",
   "execution_count": 383,
   "metadata": {},
   "outputs": [
    {
     "name": "stdout",
     "output_type": "stream",
     "text": [
      "1.000000000000000000e+00 2.000000000000000000e+00\n",
      "2.000000000000000000e+00 4.000000000000000000e+00\n",
      "3.000000000000000000e+00 6.000000000000000000e+00\n",
      "4.000000000000000000e+00 8.000000000000000000e+00\n"
     ]
    }
   ],
   "source": [
    "x = np.array([1.0,2.0,3.0,4.0])\n",
    "y = np.array([2.0,4.0,6.0,8.0])\n",
    "np.savetxt('data.txt',np.column_stack([x,y]))\n",
    "!cat data.txt"
   ]
  },
  {
   "cell_type": "markdown",
   "metadata": {},
   "source": [
    "We can control the number of decimals saved, and use scientific notation"
   ]
  },
  {
   "cell_type": "code",
   "execution_count": 384,
   "metadata": {},
   "outputs": [
    {
     "name": "stdout",
     "output_type": "stream",
     "text": [
      "1.0000e+00 2.0000e+00\n",
      "2.0000e+00 4.0000e+00\n",
      "3.0000e+00 6.0000e+00\n",
      "4.0000e+00 8.0000e+00\n"
     ]
    }
   ],
   "source": [
    "np.savetxt('data.txt',np.column_stack([x,y]),fmt='%8.4e')\n",
    "!cat data.txt"
   ]
  },
  {
   "cell_type": "markdown",
   "metadata": {},
   "source": [
    "We can read an existing file like this"
   ]
  },
  {
   "cell_type": "code",
   "execution_count": 385,
   "metadata": {},
   "outputs": [
    {
     "name": "stdout",
     "output_type": "stream",
     "text": [
      "Shape d = (4, 2)\n",
      "x = [1. 2. 3. 4.]\n",
      "y = [2. 4. 6. 8.]\n"
     ]
    }
   ],
   "source": [
    "d = np.loadtxt('data.txt')\n",
    "print('Shape d =', d.shape)\n",
    "x1 = d[:,0]\n",
    "y1 = d[:,1]\n",
    "print('x =',x1)\n",
    "print('y =',y1)"
   ]
  },
  {
   "cell_type": "markdown",
   "metadata": {},
   "source": [
    "## Measuring time\n",
    "\n",
    "Loops are slow in Python and it is good to avoid them. The following example shows how to time code execution.\n",
    "\n",
    "Create some random matrices"
   ]
  },
  {
   "cell_type": "code",
   "execution_count": 386,
   "metadata": {},
   "outputs": [],
   "source": [
    "m = 1000\n",
    "A = np.random.random((m,m))\n",
    "B = np.random.random((m,m))"
   ]
  },
  {
   "cell_type": "markdown",
   "metadata": {},
   "source": [
    "First we add two matrices with an explicit for loop."
   ]
  },
  {
   "cell_type": "code",
   "execution_count": null,
   "metadata": {},
   "outputs": [],
   "source": [
    "%%timeit -r10 -n10\n",
    "C = np.empty_like(A)\n",
    "for i in range(m):\n",
    "    for j in range(m):\n",
    "        C[i,j] = A[i,j] + B[i,j]"
   ]
  },
  {
   "cell_type": "markdown",
   "metadata": {},
   "source": [
    "Now we use the + operator."
   ]
  },
  {
   "cell_type": "code",
   "execution_count": null,
   "metadata": {},
   "outputs": [],
   "source": [
    "%%timeit -r10 -n10\n",
    "C = A + B"
   ]
  },
  {
   "cell_type": "markdown",
   "metadata": {},
   "source": [
    "The loop version is significantly slower."
   ]
  }
 ],
 "metadata": {
  "kernelspec": {
   "display_name": "Python 3 (ipykernel)",
   "language": "python",
   "name": "python3"
  },
  "language_info": {
   "codemirror_mode": {
    "name": "ipython",
    "version": 3
   },
   "file_extension": ".py",
   "mimetype": "text/x-python",
   "name": "python",
   "nbconvert_exporter": "python",
   "pygments_lexer": "ipython3",
   "version": "3.12.8"
  },
  "vscode": {
   "interpreter": {
    "hash": "c6e4e9f98eb68ad3b7c296f83d20e6de614cb42e90992a65aa266555a3137d0d"
   }
  }
 },
 "nbformat": 4,
 "nbformat_minor": 4
}

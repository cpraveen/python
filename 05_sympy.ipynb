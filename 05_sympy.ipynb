{
 "cells": [
  {
   "cell_type": "markdown",
   "metadata": {},
   "source": [
    "# Sympy"
   ]
  },
  {
   "cell_type": "code",
   "execution_count": 4,
   "metadata": {},
   "outputs": [],
   "source": [
    "%config InlineBackend.figure_format = 'svg'\n",
    "import numpy as np\n",
    "import matplotlib.pyplot as plt"
   ]
  },
  {
   "cell_type": "markdown",
   "metadata": {},
   "source": [
    "Let us import everything from sympy. We will also enable pretty printing."
   ]
  },
  {
   "cell_type": "code",
   "execution_count": 5,
   "metadata": {},
   "outputs": [],
   "source": [
    "from sympy import *\n",
    "init_printing()"
   ]
  },
  {
   "cell_type": "markdown",
   "metadata": {},
   "source": [
    "We must define symbols which will be treated symbolically"
   ]
  },
  {
   "cell_type": "code",
   "execution_count": 6,
   "metadata": {},
   "outputs": [
    {
     "data": {
      "text/plain": [
       "sympy.core.symbol.Symbol"
      ]
     },
     "execution_count": 6,
     "metadata": {},
     "output_type": "execute_result"
    }
   ],
   "source": [
    "x = symbols('x')\n",
    "type(x)"
   ]
  },
  {
   "cell_type": "markdown",
   "metadata": {},
   "source": [
    "Let us define an expression"
   ]
  },
  {
   "cell_type": "code",
   "execution_count": 7,
   "metadata": {},
   "outputs": [
    {
     "name": "stdout",
     "output_type": "stream",
     "text": [
      "x*sin(pi*x) + tan(pi*x)\n"
     ]
    }
   ],
   "source": [
    "f = x*sin(pi*x) + tan(pi*x)\n",
    "print(f)"
   ]
  },
  {
   "cell_type": "markdown",
   "metadata": {},
   "source": [
    "**Differentiation**. We can perform symbolic differentiation."
   ]
  },
  {
   "cell_type": "code",
   "execution_count": 8,
   "metadata": {},
   "outputs": [
    {
     "data": {
      "image/png": "[encoded data removed]",
      "text/latex": [
       "$\\displaystyle \\pi x \\cos{\\left(\\pi x \\right)} + \\pi \\left(\\tan^{2}{\\left(\\pi x \\right)} + 1\\right) + \\sin{\\left(\\pi x \\right)}$"
      ],
      "text/plain": [
       "                 ⎛   2         ⎞           \n",
       "π⋅x⋅cos(π⋅x) + π⋅⎝tan (π⋅x) + 1⎠ + sin(π⋅x)"
      ]
     },
     "execution_count": 8,
     "metadata": {},
     "output_type": "execute_result"
    }
   ],
   "source": [
    "diff(f,x)"
   ]
  },
  {
   "cell_type": "markdown",
   "metadata": {},
   "source": [
    "Compute second derivative"
   ]
  },
  {
   "cell_type": "code",
   "execution_count": 9,
   "metadata": {},
   "outputs": [
    {
     "data": {
      "image/png": "[encoded data removed]",
      "text/latex": [
       "$\\displaystyle \\pi \\left(- \\pi x \\sin{\\left(\\pi x \\right)} + 2 \\pi \\left(\\tan^{2}{\\left(\\pi x \\right)} + 1\\right) \\tan{\\left(\\pi x \\right)} + 2 \\cos{\\left(\\pi x \\right)}\\right)$"
      ],
      "text/plain": [
       "  ⎛                    ⎛   2         ⎞                      ⎞\n",
       "π⋅⎝-π⋅x⋅sin(π⋅x) + 2⋅π⋅⎝tan (π⋅x) + 1⎠⋅tan(π⋅x) + 2⋅cos(π⋅x)⎠"
      ]
     },
     "execution_count": 9,
     "metadata": {},
     "output_type": "execute_result"
    }
   ],
   "source": [
    "diff(f,x,2)"
   ]
  },
  {
   "cell_type": "markdown",
   "metadata": {},
   "source": [
    "**Product of two functions**. Define a more complicated expression as product of two expressions \n",
    "$$\n",
    "h(x) = f(x) g(x)\n",
    "$$\n",
    "and differentiate it"
   ]
  },
  {
   "cell_type": "code",
   "execution_count": 10,
   "metadata": {},
   "outputs": [
    {
     "data": {
      "image/png": "[encoded data removed]",
      "text/latex": [
       "$\\displaystyle \\left(x \\sin{\\left(\\pi x \\right)} + \\tan{\\left(\\pi x \\right)}\\right) e^{x} + \\left(\\pi x \\cos{\\left(\\pi x \\right)} + \\pi \\left(\\tan^{2}{\\left(\\pi x \\right)} + 1\\right) + \\sin{\\left(\\pi x \\right)}\\right) e^{x}$"
      ],
      "text/plain": [
       "                         x   ⎛                 ⎛   2         ⎞           ⎞  x\n",
       "(x⋅sin(π⋅x) + tan(π⋅x))⋅ℯ  + ⎝π⋅x⋅cos(π⋅x) + π⋅⎝tan (π⋅x) + 1⎠ + sin(π⋅x)⎠⋅ℯ "
      ]
     },
     "execution_count": 10,
     "metadata": {},
     "output_type": "execute_result"
    }
   ],
   "source": [
    "g = exp(x)\n",
    "h = f*g\n",
    "diff(h,x)"
   ]
  },
  {
   "cell_type": "markdown",
   "metadata": {},
   "source": [
    "**Function composition**. Composition of two functions\n",
    "$$\n",
    "h(x) = (f \\circ g)(x) = f(g(x))\n",
    "$$\n",
    "Apply this to the case $f(x) = \\sin(x)$, $g(x) = \\cos(x)$."
   ]
  },
  {
   "cell_type": "code",
   "execution_count": 11,
   "metadata": {},
   "outputs": [
    {
     "name": "stdout",
     "output_type": "stream",
     "text": [
      "h = sin(cos(x))\n"
     ]
    },
    {
     "data": {
      "image/png": "[encoded data removed]",
      "text/latex": [
       "$\\displaystyle - \\sin{\\left(x \\right)} \\cos{\\left(\\cos{\\left(x \\right)} \\right)}$"
      ],
      "text/plain": [
       "-sin(x)⋅cos(cos(x))"
      ]
     },
     "execution_count": 11,
     "metadata": {},
     "output_type": "execute_result"
    }
   ],
   "source": [
    "g = cos(x)\n",
    "h = sin(g)\n",
    "print('h =',h)\n",
    "diff(h,x)"
   ]
  },
  {
   "cell_type": "markdown",
   "metadata": {},
   "source": [
    "If the two functions $f,g$ have already been defined and we want to compose, then we can use substitution,"
   ]
  },
  {
   "cell_type": "code",
   "execution_count": 12,
   "metadata": {},
   "outputs": [
    {
     "name": "stdout",
     "output_type": "stream",
     "text": [
      "h = sin(cos(x))\n"
     ]
    },
    {
     "data": {
      "image/png": "[encoded data removed]",
      "text/latex": [
       "$\\displaystyle - \\sin{\\left(x \\right)} \\cos{\\left(\\cos{\\left(x \\right)} \\right)}$"
      ],
      "text/plain": [
       "-sin(x)⋅cos(cos(x))"
      ]
     },
     "execution_count": 12,
     "metadata": {},
     "output_type": "execute_result"
    }
   ],
   "source": [
    "f = sin(x)\n",
    "g = cos(x)\n",
    "h = f.subs({'x':g})\n",
    "print('h =',h)\n",
    "diff(h,x)"
   ]
  },
  {
   "cell_type": "markdown",
   "metadata": {},
   "source": [
    "**Integration**. We can also compute indefinite integrals"
   ]
  },
  {
   "cell_type": "code",
   "execution_count": 13,
   "metadata": {},
   "outputs": [
    {
     "name": "stdout",
     "output_type": "stream",
     "text": [
      "sin(x)\n"
     ]
    },
    {
     "data": {
      "image/png": "[encoded data removed]",
      "text/latex": [
       "$\\displaystyle - \\cos{\\left(x \\right)}$"
      ],
      "text/plain": [
       "-cos(x)"
      ]
     },
     "execution_count": 13,
     "metadata": {},
     "output_type": "execute_result"
    }
   ],
   "source": [
    "print(f)\n",
    "integrate(f,x)"
   ]
  },
  {
   "cell_type": "markdown",
   "metadata": {},
   "source": [
    "We can get definite integrals."
   ]
  },
  {
   "cell_type": "code",
   "execution_count": 14,
   "metadata": {},
   "outputs": [
    {
     "data": {
      "image/png": "[encoded data removed]",
      "text/latex": [
       "$\\displaystyle 1 - \\cos{\\left(1 \\right)}$"
      ],
      "text/plain": [
       "1 - cos(1)"
      ]
     },
     "execution_count": 14,
     "metadata": {},
     "output_type": "execute_result"
    }
   ],
   "source": [
    "integrate(f,(x,0,1))"
   ]
  },
  {
   "cell_type": "markdown",
   "metadata": {},
   "source": [
    "**Taylor expansion**. Compute Taylor expansion of $f(x)$ around $x=0$"
   ]
  },
  {
   "cell_type": "code",
   "execution_count": 15,
   "metadata": {},
   "outputs": [
    {
     "name": "stdout",
     "output_type": "stream",
     "text": [
      "sin(x)\n"
     ]
    },
    {
     "data": {
      "image/png": "[encoded data removed]",
      "text/latex": [
       "$\\displaystyle x - \\frac{x^{3}}{6} + \\frac{x^{5}}{120} - \\frac{x^{7}}{5040} + O\\left(x^{8}\\right)$"
      ],
      "text/plain": [
       "     3     5     7         \n",
       "    x     x     x      ⎛ 8⎞\n",
       "x - ── + ─── - ──── + O⎝x ⎠\n",
       "    6    120   5040        "
      ]
     },
     "execution_count": 15,
     "metadata": {},
     "output_type": "execute_result"
    }
   ],
   "source": [
    "print(f)\n",
    "series(f,x,0,8)"
   ]
  },
  {
   "cell_type": "markdown",
   "metadata": {},
   "source": [
    "Compute Taylor expansion of $h(x)$ around $x=0$"
   ]
  },
  {
   "cell_type": "code",
   "execution_count": 16,
   "metadata": {},
   "outputs": [
    {
     "name": "stdout",
     "output_type": "stream",
     "text": [
      "sin(cos(x))\n"
     ]
    },
    {
     "data": {
      "image/png": "[encoded data removed]",
      "text/latex": [
       "$\\displaystyle \\sin{\\left(1 \\right)} - \\frac{x^{2} \\cos{\\left(1 \\right)}}{2} + x^{4} \\left(- \\frac{\\sin{\\left(1 \\right)}}{8} + \\frac{\\cos{\\left(1 \\right)}}{24}\\right) + x^{6} \\cdot \\left(\\frac{7 \\cos{\\left(1 \\right)}}{360} + \\frac{\\sin{\\left(1 \\right)}}{48}\\right) + O\\left(x^{8}\\right)$"
      ],
      "text/plain": [
       "          2                                                                 \n",
       "         x ⋅cos(1)    4 ⎛  sin(1)   cos(1)⎞    6 ⎛7⋅cos(1)   sin(1)⎞    ⎛ 8⎞\n",
       "sin(1) - ───────── + x ⋅⎜- ────── + ──────⎟ + x ⋅⎜──────── + ──────⎟ + O⎝x ⎠\n",
       "             2          ⎝    8        24  ⎠      ⎝  360        48  ⎠        "
      ]
     },
     "execution_count": 16,
     "metadata": {},
     "output_type": "execute_result"
    }
   ],
   "source": [
    "print(h)\n",
    "series(h,x,0,8)"
   ]
  },
  {
   "cell_type": "markdown",
   "metadata": {},
   "source": [
    "## Expression is not a function"
   ]
  },
  {
   "cell_type": "code",
   "execution_count": 17,
   "metadata": {},
   "outputs": [],
   "source": [
    "p = (x + 1)/(x**2 + 2)"
   ]
  },
  {
   "cell_type": "markdown",
   "metadata": {},
   "source": [
    "We cannot evaluate `p` at a numerical value. To do that, we can substitute the symbol `x` with a numerical value."
   ]
  },
  {
   "cell_type": "code",
   "execution_count": 18,
   "metadata": {},
   "outputs": [
    {
     "data": {
      "image/png": "[encoded data removed]",
      "text/latex": [
       "$\\displaystyle \\frac{2}{3}$"
      ],
      "text/plain": [
       "2/3"
      ]
     },
     "execution_count": 18,
     "metadata": {},
     "output_type": "execute_result"
    }
   ],
   "source": [
    "p.subs({'x':1})"
   ]
  },
  {
   "cell_type": "code",
   "execution_count": 19,
   "metadata": {},
   "outputs": [
    {
     "data": {
      "image/png": "[encoded data removed]",
      "text/latex": [
       "$\\displaystyle 0.666666666666667$"
      ],
      "text/plain": [
       "0.666666666666667"
      ]
     },
     "execution_count": 19,
     "metadata": {},
     "output_type": "execute_result"
    }
   ],
   "source": [
    "p.subs({'x':1.0})"
   ]
  },
  {
   "cell_type": "markdown",
   "metadata": {},
   "source": [
    "The result depends on whether we substitute with an integer or a float. You can substitute with a rational number like this"
   ]
  },
  {
   "cell_type": "code",
   "execution_count": 20,
   "metadata": {},
   "outputs": [
    {
     "data": {
      "image/png": "[encoded data removed]",
      "text/latex": [
       "$\\displaystyle \\frac{1}{2}$"
      ],
      "text/plain": [
       "1/2"
      ]
     },
     "execution_count": 20,
     "metadata": {},
     "output_type": "execute_result"
    }
   ],
   "source": [
    "p.subs({'x':1//2})"
   ]
  },
  {
   "cell_type": "markdown",
   "metadata": {},
   "source": [
    "For how to make python functions out of expressions, see below."
   ]
  },
  {
   "cell_type": "markdown",
   "metadata": {},
   "source": [
    "## Compute roots\n",
    "\n",
    "Let us find roots of quadratic equation\n",
    "$$\n",
    "a x^2 + b x + c = 0\n",
    "$$"
   ]
  },
  {
   "cell_type": "code",
   "execution_count": 21,
   "metadata": {},
   "outputs": [
    {
     "data": {
      "image/png": "[encoded data removed]",
      "text/latex": [
       "$\\displaystyle \\left\\{ - \\frac{b}{2 a} - \\frac{\\sqrt{- 4 a c + b^{2}}}{2 a} : 1, \\  - \\frac{b}{2 a} + \\frac{\\sqrt{- 4 a c + b^{2}}}{2 a} : 1\\right\\}$"
      ],
      "text/plain": [
       "⎧           _____________                _____________   ⎫\n",
       "⎪          ╱           2                ╱           2    ⎪\n",
       "⎨   b    ╲╱  -4⋅a⋅c + b          b    ╲╱  -4⋅a⋅c + b     ⎬\n",
       "⎪- ─── - ────────────────: 1, - ─── + ────────────────: 1⎪\n",
       "⎩  2⋅a         2⋅a              2⋅a         2⋅a          ⎭"
      ]
     },
     "execution_count": 21,
     "metadata": {},
     "output_type": "execute_result"
    }
   ],
   "source": [
    "x, a, b, c = symbols('x a b c')\n",
    "eq = a*x**2 + b*x + c\n",
    "roots(eq,x)"
   ]
  },
  {
   "cell_type": "code",
   "execution_count": 22,
   "metadata": {},
   "outputs": [
    {
     "data": {
      "image/png": "[encoded data removed]",
      "text/latex": [
       "$\\displaystyle \\left\\{ a : 2\\right\\}$"
      ],
      "text/plain": [
       "{a: 2}"
      ]
     },
     "execution_count": 22,
     "metadata": {},
     "output_type": "execute_result"
    }
   ],
   "source": [
    "x, a = symbols('x a')\n",
    "eq = (x - a)**2\n",
    "roots(eq,x)"
   ]
  },
  {
   "cell_type": "markdown",
   "metadata": {},
   "source": [
    "## Expand, factor, simplify"
   ]
  },
  {
   "cell_type": "code",
   "execution_count": 23,
   "metadata": {},
   "outputs": [
    {
     "data": {
      "image/png": "[encoded data removed]",
      "text/latex": [
       "$\\displaystyle a^{2} - 2 a x + x^{2}$"
      ],
      "text/plain": [
       " 2            2\n",
       "a  - 2⋅a⋅x + x "
      ]
     },
     "execution_count": 23,
     "metadata": {},
     "output_type": "execute_result"
    }
   ],
   "source": [
    "x, a = symbols('x a')\n",
    "expand((x-a)**2)"
   ]
  },
  {
   "cell_type": "code",
   "execution_count": 24,
   "metadata": {},
   "outputs": [
    {
     "data": {
      "image/png": "[encoded data removed]",
      "text/latex": [
       "$\\displaystyle \\left(- a + x\\right)^{2}$"
      ],
      "text/plain": [
       "        2\n",
       "(-a + x) "
      ]
     },
     "execution_count": 24,
     "metadata": {},
     "output_type": "execute_result"
    }
   ],
   "source": [
    "factor(x**2 - 2*a*x + a**2)"
   ]
  },
  {
   "cell_type": "code",
   "execution_count": 25,
   "metadata": {},
   "outputs": [
    {
     "data": {
      "image/png": "[encoded data removed]",
      "text/latex": [
       "$\\displaystyle x + 1$"
      ],
      "text/plain": [
       "x + 1"
      ]
     },
     "execution_count": 25,
     "metadata": {},
     "output_type": "execute_result"
    }
   ],
   "source": [
    "f = (x + x**2)/(x*sin(x)**2 + x*cos(x)**2)\n",
    "simplify(f)"
   ]
  },
  {
   "cell_type": "markdown",
   "metadata": {},
   "source": [
    "## Get Latex code"
   ]
  },
  {
   "cell_type": "code",
   "execution_count": 26,
   "metadata": {},
   "outputs": [
    {
     "data": {
      "image/png": "[encoded data removed]",
      "text/latex": [
       "$\\displaystyle - \\sin^{3}{\\left(x \\right)} + 3 \\sin^{2}{\\left(x \\right)} \\cos{\\left(x \\right)} - 3 \\sin{\\left(x \\right)} \\cos^{2}{\\left(x \\right)} + \\cos^{3}{\\left(x \\right)}$"
      ],
      "text/plain": [
       "     3           2                         2         3   \n",
       "- sin (x) + 3⋅sin (x)⋅cos(x) - 3⋅sin(x)⋅cos (x) + cos (x)"
      ]
     },
     "execution_count": 26,
     "metadata": {},
     "output_type": "execute_result"
    }
   ],
   "source": [
    "x = symbols('x')\n",
    "p = (cos(x)-sin(x))**3\n",
    "expand(p)"
   ]
  },
  {
   "cell_type": "code",
   "execution_count": 27,
   "metadata": {},
   "outputs": [
    {
     "name": "stdout",
     "output_type": "stream",
     "text": [
      "- \\sin^{3}{\\left(x \\right)} + 3 \\sin^{2}{\\left(x \\right)} \\cos{\\left(x \\right)} - 3 \\sin{\\left(x \\right)} \\cos^{2}{\\left(x \\right)} + \\cos^{3}{\\left(x \\right)}\n"
     ]
    }
   ],
   "source": [
    "print_latex(expand(p))"
   ]
  },
  {
   "cell_type": "markdown",
   "metadata": {},
   "source": [
    "## Solve a linear system\n",
    "$$\n",
    "x_1 + x_2 = a, \\qquad x_1 - x_2 = b\n",
    "$$"
   ]
  },
  {
   "cell_type": "code",
   "execution_count": 28,
   "metadata": {},
   "outputs": [
    {
     "data": {
      "image/png": "[encoded data removed]",
      "text/latex": [
       "$\\displaystyle \\left\\{ x_{1} : \\frac{a}{2} + \\frac{b}{2}, \\  x_{2} : \\frac{a}{2} - \\frac{b}{2}\\right\\}$"
      ],
      "text/plain": [
       "⎧    a   b      a   b⎫\n",
       "⎨x₁: ─ + ─, x₂: ─ - ─⎬\n",
       "⎩    2   2      2   2⎭"
      ]
     },
     "execution_count": 28,
     "metadata": {},
     "output_type": "execute_result"
    }
   ],
   "source": [
    "x1, x2, a, b = symbols('x1 x2 a b')\n",
    "e1 = x1 + x2 - a\n",
    "e2 = x1 - x2 - b\n",
    "solve([e1, e2],[x1,x2])"
   ]
  },
  {
   "cell_type": "markdown",
   "metadata": {},
   "source": [
    "We can capture the result as a dictionary."
   ]
  },
  {
   "cell_type": "code",
   "execution_count": 29,
   "metadata": {},
   "outputs": [
    {
     "name": "stdout",
     "output_type": "stream",
     "text": [
      "x1 =  a/2 + b/2\n",
      "x2 =  a/2 - b/2\n"
     ]
    }
   ],
   "source": [
    "r = solve([e1, e2],[x1,x2])\n",
    "print('x1 = ', r[x1])\n",
    "print('x2 = ', r[x2])"
   ]
  },
  {
   "cell_type": "markdown",
   "metadata": {},
   "source": [
    "## Example: create Python function from sympy expression\n",
    "\n",
    "Lets first define a function and get its derivative."
   ]
  },
  {
   "cell_type": "code",
   "execution_count": 30,
   "metadata": {},
   "outputs": [],
   "source": [
    "x = symbols('x')\n",
    "f = x * sin(50*x) * exp(x)\n",
    "g = diff(f,x)"
   ]
  },
  {
   "cell_type": "markdown",
   "metadata": {},
   "source": [
    "We cannot evaluate `f` and `g` since they are not python functions. We first create Python functions out of the symbolic expressions and then plot them."
   ]
  },
  {
   "cell_type": "code",
   "execution_count": 31,
   "metadata": {},
   "outputs": [],
   "source": [
    "ffun = lambdify(x,f)\n",
    "gfun = lambdify(x,g)"
   ]
  },
  {
   "cell_type": "markdown",
   "metadata": {},
   "source": [
    "We can now evaluate these functions at some argument"
   ]
  },
  {
   "cell_type": "code",
   "execution_count": 32,
   "metadata": {},
   "outputs": [
    {
     "name": "stdout",
     "output_type": "stream",
     "text": [
      "f(1) = -0.7132087970679899\n",
      "g(1) = 129.72606342238427\n"
     ]
    }
   ],
   "source": [
    "print('f(1) =',ffun(1.0))\n",
    "print('g(1) =',gfun(1.0))"
   ]
  },
  {
   "cell_type": "markdown",
   "metadata": {},
   "source": [
    "We can now use these to plot graphs of the functions"
   ]
  },
  {
   "cell_type": "code",
   "execution_count": 33,
   "metadata": {},
   "outputs": [
    {
     "data": {
      "image/svg+xml": [
       "<?xml version=\"1.0\" encoding=\"utf-8\" standalone=\"no\"?>\n",
       "<!DOCTYPE svg PUBLIC \"-//W3C//DTD SVG 1.1//EN\"\n",
       "  \"http://www.w3.org/Graphics/SVG/1.1/DTD/svg11.dtd\">\n",
       "<svg xmlns:xlink=\"http://www.w3.org/1999/xlink\" width=\"538.342187pt\" height=\"267.95625pt\" viewBox=\"0 0 538.342187 267.95625\" xmlns=\"http://www.w3.org/2000/svg\" version=\"1.1\">\n",
       " <metadata>\n",
       "  <rdf:RDF xmlns:dc=\"http://purl.org/dc/elements/1.1/\" xmlns:cc=\"http://creativecommons.org/ns#\" xmlns:rdf=\"http://www.w3.org/1999/02/22-rdf-syntax-ns#\">\n",
       "   <cc:Work>\n",
       "    <dc:type rdf:resource=\"http://purl.org/dc/dcmitype/StillImage\"/>\n",
       "    <dc:date>2023-01-10T11:09:49.188237</dc:date>\n",
       "    <dc:format>image/svg+xml</dc:format>\n",
       "    <dc:creator>\n",
       "     <cc:Agent>\n",
       "      <dc:title>Matplotlib v3.6.2, https://matplotlib.org/</dc:title>\n",
       "     </cc:Agent>\n",
       "    </dc:creator>\n",
       "   </cc:Work>\n",
       "  </rdf:RDF>\n",
       " </metadata>\n",
       " <defs>\n",
       "  <style type=\"text/css\">*{stroke-linejoin: round; stroke-linecap: butt}</style>\n",
       " </defs>\n",
       " <g id=\"figure_1\">\n",
       "  <g id=\"patch_1\">\n",
       "   <path d=\"M 0 267.95625 \n",
       "L 538.342187 267.95625 \n",
       "L 538.342187 0 \n",
       "L 0 0 \n",
       "z\n",
       "\" style=\"fill: #ffffff\"/>\n",
       "  </g>\n",
       "  <g id=\"axes_1\">\n",
       "   <g id=\"patch_2\">\n",
       "    <path d=\"M 28.942188 244.078125 \n",
       "L 257.214915 244.078125 \n",
       "L 257.214915 22.318125 \n",
       "L 28.942188 22.318125 \n",
       "z\n",
       "\" style=\"fill: #ffffff\"/>\n",
       "   </g>\n",
       "   <g id=\"matplotlib.axis_1\">\n",
       "    <g id=\"xtick_1\">\n",
       "     <g id=\"line2d_1\">\n",
       "      <path d=\"M 39.318221 244.078125 \n",
       "L 39.318221 22.318125 \n",
       "\" clip-path=\"url(#pef253b936f)\" style=\"fill: none; stroke: #b0b0b0; stroke-width: 0.8; stroke-linecap: square\"/>\n",
       "     </g>\n",
       "     <g id=\"line2d_2\">\n",
       "      <defs>\n",
       "       <path id=\"mf63d5cd066\" d=\"M 0 0 \n",
       "L 0 3.5 \n",
       "\" style=\"stroke: #000000; stroke-width: 0.8\"/>\n",
       "      </defs>\n",
       "      <g>\n",
       "       <use xlink:href=\"#mf63d5cd066\" x=\"39.318221\" y=\"244.078125\" style=\"stroke: #000000; stroke-width: 0.8\"/>\n",
       "      </g>\n",
       "     </g>\n",
       "     <g id=\"text_1\">\n",
       "      <!-- 0.0 -->\n",
       "      <g transform=\"translate(31.366658 258.676562) scale(0.1 -0.1)\">\n",
       "       <defs>\n",
       "        <path id=\"DejaVuSans-30\" d=\"M 2034 4250 \n",
       "Q 1547 4250 1301 3770 \n",
       "Q 1056 3291 1056 2328 \n",
       "Q 1056 1369 1301 889 \n",
       "Q 1547 409 2034 409 \n",
       "Q 2525 409 2770 889 \n",
       "Q 3016 1369 3016 2328 \n",
       "Q 3016 3291 2770 3770 \n",
       "Q 2525 4250 2034 4250 \n",
       "z\n",
       "M 2034 4750 \n",
       "Q 2819 4750 3233 4129 \n",
       "Q 3647 3509 3647 2328 \n",
       "Q 3647 1150 3233 529 \n",
       "Q 2819 -91 2034 -91 \n",
       "Q 1250 -91 836 529 \n",
       "Q 422 1150 422 2328 \n",
       "Q 422 3509 836 4129 \n",
       "Q 1250 4750 2034 4750 \n",
       "z\n",
       "\" transform=\"scale(0.015625)\"/>\n",
       "        <path id=\"DejaVuSans-2e\" d=\"M 684 794 \n",
       "L 1344 794 \n",
       "L 1344 0 \n",
       "L 684 0 \n",
       "L 684 794 \n",
       "z\n",
       "\" transform=\"scale(0.015625)\"/>\n",
       "       </defs>\n",
       "       <use xlink:href=\"#DejaVuSans-30\"/>\n",
       "       <use xlink:href=\"#DejaVuSans-2e\" x=\"63.623047\"/>\n",
       "       <use xlink:href=\"#DejaVuSans-30\" x=\"95.410156\"/>\n",
       "      </g>\n",
       "     </g>\n",
       "    </g>\n",
       "    <g id=\"xtick_2\">\n",
       "     <g id=\"line2d_3\">\n",
       "      <path d=\"M 80.822353 244.078125 \n",
       "L 80.822353 22.318125 \n",
       "\" clip-path=\"url(#pef253b936f)\" style=\"fill: none; stroke: #b0b0b0; stroke-width: 0.8; stroke-linecap: square\"/>\n",
       "     </g>\n",
       "     <g id=\"line2d_4\">\n",
       "      <g>\n",
       "       <use xlink:href=\"#mf63d5cd066\" x=\"80.822353\" y=\"244.078125\" style=\"stroke: #000000; stroke-width: 0.8\"/>\n",
       "      </g>\n",
       "     </g>\n",
       "     <g id=\"text_2\">\n",
       "      <!-- 0.2 -->\n",
       "      <g transform=\"translate(72.87079 258.676562) scale(0.1 -0.1)\">\n",
       "       <defs>\n",
       "        <path id=\"DejaVuSans-32\" d=\"M 1228 531 \n",
       "L 3431 531 \n",
       "L 3431 0 \n",
       "L 469 0 \n",
       "L 469 531 \n",
       "Q 828 903 1448 1529 \n",
       "Q 2069 2156 2228 2338 \n",
       "Q 2531 2678 2651 2914 \n",
       "Q 2772 3150 2772 3378 \n",
       "Q 2772 3750 2511 3984 \n",
       "Q 2250 4219 1831 4219 \n",
       "Q 1534 4219 1204 4116 \n",
       "Q 875 4013 500 3803 \n",
       "L 500 4441 \n",
       "Q 881 4594 1212 4672 \n",
       "Q 1544 4750 1819 4750 \n",
       "Q 2544 4750 2975 4387 \n",
       "Q 3406 4025 3406 3419 \n",
       "Q 3406 3131 3298 2873 \n",
       "Q 3191 2616 2906 2266 \n",
       "Q 2828 2175 2409 1742 \n",
       "Q 1991 1309 1228 531 \n",
       "z\n",
       "\" transform=\"scale(0.015625)\"/>\n",
       "       </defs>\n",
       "       <use xlink:href=\"#DejaVuSans-30\"/>\n",
       "       <use xlink:href=\"#DejaVuSans-2e\" x=\"63.623047\"/>\n",
       "       <use xlink:href=\"#DejaVuSans-32\" x=\"95.410156\"/>\n",
       "      </g>\n",
       "     </g>\n",
       "    </g>\n",
       "    <g id=\"xtick_3\">\n",
       "     <g id=\"line2d_5\">\n",
       "      <path d=\"M 122.326485 244.078125 \n",
       "L 122.326485 22.318125 \n",
       "\" clip-path=\"url(#pef253b936f)\" style=\"fill: none; stroke: #b0b0b0; stroke-width: 0.8; stroke-linecap: square\"/>\n",
       "     </g>\n",
       "     <g id=\"line2d_6\">\n",
       "      <g>\n",
       "       <use xlink:href=\"#mf63d5cd066\" x=\"122.326485\" y=\"244.078125\" style=\"stroke: #000000; stroke-width: 0.8\"/>\n",
       "      </g>\n",
       "     </g>\n",
       "     <g id=\"text_3\">\n",
       "      <!-- 0.4 -->\n",
       "      <g transform=\"translate(114.374923 258.676562) scale(0.1 -0.1)\">\n",
       "       <defs>\n",
       "        <path id=\"DejaVuSans-34\" d=\"M 2419 4116 \n",
       "L 825 1625 \n",
       "L 2419 1625 \n",
       "L 2419 4116 \n",
       "z\n",
       "M 2253 4666 \n",
       "L 3047 4666 \n",
       "L 3047 1625 \n",
       "L 3713 1625 \n",
       "L 3713 1100 \n",
       "L 3047 1100 \n",
       "L 3047 0 \n",
       "L 2419 0 \n",
       "L 2419 1100 \n",
       "L 313 1100 \n",
       "L 313 1709 \n",
       "L 2253 4666 \n",
       "z\n",
       "\" transform=\"scale(0.015625)\"/>\n",
       "       </defs>\n",
       "       <use xlink:href=\"#DejaVuSans-30\"/>\n",
       "       <use xlink:href=\"#DejaVuSans-2e\" x=\"63.623047\"/>\n",
       "       <use xlink:href=\"#DejaVuSans-34\" x=\"95.410156\"/>\n",
       "      </g>\n",
       "     </g>\n",
       "    </g>\n",
       "    <g id=\"xtick_4\">\n",
       "     <g id=\"line2d_7\">\n",
       "      <path d=\"M 163.830617 244.078125 \n",
       "L 163.830617 22.318125 \n",
       "\" clip-path=\"url(#pef253b936f)\" style=\"fill: none; stroke: #b0b0b0; stroke-width: 0.8; stroke-linecap: square\"/>\n",
       "     </g>\n",
       "     <g id=\"line2d_8\">\n",
       "      <g>\n",
       "       <use xlink:href=\"#mf63d5cd066\" x=\"163.830617\" y=\"244.078125\" style=\"stroke: #000000; stroke-width: 0.8\"/>\n",
       "      </g>\n",
       "     </g>\n",
       "     <g id=\"text_4\">\n",
       "      <!-- 0.6 -->\n",
       "      <g transform=\"translate(155.879055 258.676562) scale(0.1 -0.1)\">\n",
       "       <defs>\n",
       "        <path id=\"DejaVuSans-36\" d=\"M 2113 2584 \n",
       "Q 1688 2584 1439 2293 \n",
       "Q 1191 2003 1191 1497 \n",
       "Q 1191 994 1439 701 \n",
       "Q 1688 409 2113 409 \n",
       "Q 2538 409 2786 701 \n",
       "Q 3034 994 3034 1497 \n",
       "Q 3034 2003 2786 2293 \n",
       "Q 2538 2584 2113 2584 \n",
       "z\n",
       "M 3366 4563 \n",
       "L 3366 3988 \n",
       "Q 3128 4100 2886 4159 \n",
       "Q 2644 4219 2406 4219 \n",
       "Q 1781 4219 1451 3797 \n",
       "Q 1122 3375 1075 2522 \n",
       "Q 1259 2794 1537 2939 \n",
       "Q 1816 3084 2150 3084 \n",
       "Q 2853 3084 3261 2657 \n",
       "Q 3669 2231 3669 1497 \n",
       "Q 3669 778 3244 343 \n",
       "Q 2819 -91 2113 -91 \n",
       "Q 1303 -91 875 529 \n",
       "Q 447 1150 447 2328 \n",
       "Q 447 3434 972 4092 \n",
       "Q 1497 4750 2381 4750 \n",
       "Q 2619 4750 2861 4703 \n",
       "Q 3103 4656 3366 4563 \n",
       "z\n",
       "\" transform=\"scale(0.015625)\"/>\n",
       "       </defs>\n",
       "       <use xlink:href=\"#DejaVuSans-30\"/>\n",
       "       <use xlink:href=\"#DejaVuSans-2e\" x=\"63.623047\"/>\n",
       "       <use xlink:href=\"#DejaVuSans-36\" x=\"95.410156\"/>\n",
       "      </g>\n",
       "     </g>\n",
       "    </g>\n",
       "    <g id=\"xtick_5\">\n",
       "     <g id=\"line2d_9\">\n",
       "      <path d=\"M 205.334749 244.078125 \n",
       "L 205.334749 22.318125 \n",
       "\" clip-path=\"url(#pef253b936f)\" style=\"fill: none; stroke: #b0b0b0; stroke-width: 0.8; stroke-linecap: square\"/>\n",
       "     </g>\n",
       "     <g id=\"line2d_10\">\n",
       "      <g>\n",
       "       <use xlink:href=\"#mf63d5cd066\" x=\"205.334749\" y=\"244.078125\" style=\"stroke: #000000; stroke-width: 0.8\"/>\n",
       "      </g>\n",
       "     </g>\n",
       "     <g id=\"text_5\">\n",
       "      <!-- 0.8 -->\n",
       "      <g transform=\"translate(197.383187 258.676562) scale(0.1 -0.1)\">\n",
       "       <defs>\n",
       "        <path id=\"DejaVuSans-38\" d=\"M 2034 2216 \n",
       "Q 1584 2216 1326 1975 \n",
       "Q 1069 1734 1069 1313 \n",
       "Q 1069 891 1326 650 \n",
       "Q 1584 409 2034 409 \n",
       "Q 2484 409 2743 651 \n",
       "Q 3003 894 3003 1313 \n",
       "Q 3003 1734 2745 1975 \n",
       "Q 2488 2216 2034 2216 \n",
       "z\n",
       "M 1403 2484 \n",
       "Q 997 2584 770 2862 \n",
       "Q 544 3141 544 3541 \n",
       "Q 544 4100 942 4425 \n",
       "Q 1341 4750 2034 4750 \n",
       "Q 2731 4750 3128 4425 \n",
       "Q 3525 4100 3525 3541 \n",
       "Q 3525 3141 3298 2862 \n",
       "Q 3072 2584 2669 2484 \n",
       "Q 3125 2378 3379 2068 \n",
       "Q 3634 1759 3634 1313 \n",
       "Q 3634 634 3220 271 \n",
       "Q 2806 -91 2034 -91 \n",
       "Q 1263 -91 848 271 \n",
       "Q 434 634 434 1313 \n",
       "Q 434 1759 690 2068 \n",
       "Q 947 2378 1403 2484 \n",
       "z\n",
       "M 1172 3481 \n",
       "Q 1172 3119 1398 2916 \n",
       "Q 1625 2713 2034 2713 \n",
       "Q 2441 2713 2670 2916 \n",
       "Q 2900 3119 2900 3481 \n",
       "Q 2900 3844 2670 4047 \n",
       "Q 2441 4250 2034 4250 \n",
       "Q 1625 4250 1398 4047 \n",
       "Q 1172 3844 1172 3481 \n",
       "z\n",
       "\" transform=\"scale(0.015625)\"/>\n",
       "       </defs>\n",
       "       <use xlink:href=\"#DejaVuSans-30\"/>\n",
       "       <use xlink:href=\"#DejaVuSans-2e\" x=\"63.623047\"/>\n",
       "       <use xlink:href=\"#DejaVuSans-38\" x=\"95.410156\"/>\n",
       "      </g>\n",
       "     </g>\n",
       "    </g>\n",
       "    <g id=\"xtick_6\">\n",
       "     <g id=\"line2d_11\">\n",
       "      <path d=\"M 246.838882 244.078125 \n",
       "L 246.838882 22.318125 \n",
       "\" clip-path=\"url(#pef253b936f)\" style=\"fill: none; stroke: #b0b0b0; stroke-width: 0.8; stroke-linecap: square\"/>\n",
       "     </g>\n",
       "     <g id=\"line2d_12\">\n",
       "      <g>\n",
       "       <use xlink:href=\"#mf63d5cd066\" x=\"246.838882\" y=\"244.078125\" style=\"stroke: #000000; stroke-width: 0.8\"/>\n",
       "      </g>\n",
       "     </g>\n",
       "     <g id=\"text_6\">\n",
       "      <!-- 1.0 -->\n",
       "      <g transform=\"translate(238.887319 258.676562) scale(0.1 -0.1)\">\n",
       "       <defs>\n",
       "        <path id=\"DejaVuSans-31\" d=\"M 794 531 \n",
       "L 1825 531 \n",
       "L 1825 4091 \n",
       "L 703 3866 \n",
       "L 703 4441 \n",
       "L 1819 4666 \n",
       "L 2450 4666 \n",
       "L 2450 531 \n",
       "L 3481 531 \n",
       "L 3481 0 \n",
       "L 794 0 \n",
       "L 794 531 \n",
       "z\n",
       "\" transform=\"scale(0.015625)\"/>\n",
       "       </defs>\n",
       "       <use xlink:href=\"#DejaVuSans-31\"/>\n",
       "       <use xlink:href=\"#DejaVuSans-2e\" x=\"63.623047\"/>\n",
       "       <use xlink:href=\"#DejaVuSans-30\" x=\"95.410156\"/>\n",
       "      </g>\n",
       "     </g>\n",
       "    </g>\n",
       "   </g>\n",
       "   <g id=\"matplotlib.axis_2\">\n",
       "    <g id=\"ytick_1\">\n",
       "     <g id=\"line2d_13\">\n",
       "      <path d=\"M 28.942188 209.758772 \n",
       "L 257.214915 209.758772 \n",
       "\" clip-path=\"url(#pef253b936f)\" style=\"fill: none; stroke: #b0b0b0; stroke-width: 0.8; stroke-linecap: square\"/>\n",
       "     </g>\n",
       "     <g id=\"line2d_14\">\n",
       "      <defs>\n",
       "       <path id=\"m63d38b6ed3\" d=\"M 0 0 \n",
       "L -3.5 0 \n",
       "\" style=\"stroke: #000000; stroke-width: 0.8\"/>\n",
       "      </defs>\n",
       "      <g>\n",
       "       <use xlink:href=\"#m63d38b6ed3\" x=\"28.942188\" y=\"209.758772\" style=\"stroke: #000000; stroke-width: 0.8\"/>\n",
       "      </g>\n",
       "     </g>\n",
       "     <g id=\"text_7\">\n",
       "      <!-- −2 -->\n",
       "      <g transform=\"translate(7.2 213.557991) scale(0.1 -0.1)\">\n",
       "       <defs>\n",
       "        <path id=\"DejaVuSans-2212\" d=\"M 678 2272 \n",
       "L 4684 2272 \n",
       "L 4684 1741 \n",
       "L 678 1741 \n",
       "L 678 2272 \n",
       "z\n",
       "\" transform=\"scale(0.015625)\"/>\n",
       "       </defs>\n",
       "       <use xlink:href=\"#DejaVuSans-2212\"/>\n",
       "       <use xlink:href=\"#DejaVuSans-32\" x=\"83.789062\"/>\n",
       "      </g>\n",
       "     </g>\n",
       "    </g>\n",
       "    <g id=\"ytick_2\">\n",
       "     <g id=\"line2d_15\">\n",
       "      <path d=\"M 28.942188 168.04765 \n",
       "L 257.214915 168.04765 \n",
       "\" clip-path=\"url(#pef253b936f)\" style=\"fill: none; stroke: #b0b0b0; stroke-width: 0.8; stroke-linecap: square\"/>\n",
       "     </g>\n",
       "     <g id=\"line2d_16\">\n",
       "      <g>\n",
       "       <use xlink:href=\"#m63d38b6ed3\" x=\"28.942188\" y=\"168.04765\" style=\"stroke: #000000; stroke-width: 0.8\"/>\n",
       "      </g>\n",
       "     </g>\n",
       "     <g id=\"text_8\">\n",
       "      <!-- −1 -->\n",
       "      <g transform=\"translate(7.2 171.846869) scale(0.1 -0.1)\">\n",
       "       <use xlink:href=\"#DejaVuSans-2212\"/>\n",
       "       <use xlink:href=\"#DejaVuSans-31\" x=\"83.789062\"/>\n",
       "      </g>\n",
       "     </g>\n",
       "    </g>\n",
       "    <g id=\"ytick_3\">\n",
       "     <g id=\"line2d_17\">\n",
       "      <path d=\"M 28.942188 126.336528 \n",
       "L 257.214915 126.336528 \n",
       "\" clip-path=\"url(#pef253b936f)\" style=\"fill: none; stroke: #b0b0b0; stroke-width: 0.8; stroke-linecap: square\"/>\n",
       "     </g>\n",
       "     <g id=\"line2d_18\">\n",
       "      <g>\n",
       "       <use xlink:href=\"#m63d38b6ed3\" x=\"28.942188\" y=\"126.336528\" style=\"stroke: #000000; stroke-width: 0.8\"/>\n",
       "      </g>\n",
       "     </g>\n",
       "     <g id=\"text_9\">\n",
       "      <!-- 0 -->\n",
       "      <g transform=\"translate(15.579688 130.135747) scale(0.1 -0.1)\">\n",
       "       <use xlink:href=\"#DejaVuSans-30\"/>\n",
       "      </g>\n",
       "     </g>\n",
       "    </g>\n",
       "    <g id=\"ytick_4\">\n",
       "     <g id=\"line2d_19\">\n",
       "      <path d=\"M 28.942188 84.625406 \n",
       "L 257.214915 84.625406 \n",
       "\" clip-path=\"url(#pef253b936f)\" style=\"fill: none; stroke: #b0b0b0; stroke-width: 0.8; stroke-linecap: square\"/>\n",
       "     </g>\n",
       "     <g id=\"line2d_20\">\n",
       "      <g>\n",
       "       <use xlink:href=\"#m63d38b6ed3\" x=\"28.942188\" y=\"84.625406\" style=\"stroke: #000000; stroke-width: 0.8\"/>\n",
       "      </g>\n",
       "     </g>\n",
       "     <g id=\"text_10\">\n",
       "      <!-- 1 -->\n",
       "      <g transform=\"translate(15.579688 88.424624) scale(0.1 -0.1)\">\n",
       "       <use xlink:href=\"#DejaVuSans-31\"/>\n",
       "      </g>\n",
       "     </g>\n",
       "    </g>\n",
       "    <g id=\"ytick_5\">\n",
       "     <g id=\"line2d_21\">\n",
       "      <path d=\"M 28.942188 42.914283 \n",
       "L 257.214915 42.914283 \n",
       "\" clip-path=\"url(#pef253b936f)\" style=\"fill: none; stroke: #b0b0b0; stroke-width: 0.8; stroke-linecap: square\"/>\n",
       "     </g>\n",
       "     <g id=\"line2d_22\">\n",
       "      <g>\n",
       "       <use xlink:href=\"#m63d38b6ed3\" x=\"28.942188\" y=\"42.914283\" style=\"stroke: #000000; stroke-width: 0.8\"/>\n",
       "      </g>\n",
       "     </g>\n",
       "     <g id=\"text_11\">\n",
       "      <!-- 2 -->\n",
       "      <g transform=\"translate(15.579688 46.713502) scale(0.1 -0.1)\">\n",
       "       <use xlink:href=\"#DejaVuSans-32\"/>\n",
       "      </g>\n",
       "     </g>\n",
       "    </g>\n",
       "   </g>\n",
       "   <g id=\"line2d_23\">\n",
       "    <path d=\"M 39.318221 126.336528 \n",
       "L 41.403855 126.132586 \n",
       "L 43.48949 125.614388 \n",
       "L 45.575125 125.043003 \n",
       "L 47.66076 124.756628 \n",
       "L 48.703577 124.814955 \n",
       "L 49.746394 125.039748 \n",
       "L 50.789212 125.437755 \n",
       "L 51.832029 125.999427 \n",
       "L 53.917664 127.49259 \n",
       "L 56.003299 129.13427 \n",
       "L 57.046116 129.846198 \n",
       "L 58.088934 130.392419 \n",
       "L 59.131751 130.709698 \n",
       "L 60.174568 130.74698 \n",
       "L 61.217386 130.470527 \n",
       "L 62.260203 129.868033 \n",
       "L 63.303021 128.951315 \n",
       "L 64.345838 127.757295 \n",
       "L 66.431473 124.803211 \n",
       "L 68.517108 121.721822 \n",
       "L 69.559925 120.406902 \n",
       "L 70.602742 119.387954 \n",
       "L 71.64556 118.759563 \n",
       "L 72.688377 118.59528 \n",
       "L 73.731195 118.940897 \n",
       "L 74.774012 119.809347 \n",
       "L 75.816829 121.177674 \n",
       "L 76.859647 122.986408 \n",
       "L 78.945281 127.518983 \n",
       "L 81.030916 132.338127 \n",
       "L 82.073734 134.453417 \n",
       "L 83.116551 136.159907 \n",
       "L 84.159368 137.318815 \n",
       "L 85.202186 137.820759 \n",
       "L 86.245003 137.594863 \n",
       "L 87.287821 136.61565 \n",
       "L 88.330638 134.907163 \n",
       "L 89.373455 132.543873 \n",
       "L 90.416273 129.648167 \n",
       "L 94.587542 116.451127 \n",
       "L 95.63036 113.831366 \n",
       "L 96.673177 111.900649 \n",
       "L 97.715995 110.818725 \n",
       "L 98.758812 110.696401 \n",
       "L 99.801629 111.585942 \n",
       "L 100.844447 113.474988 \n",
       "L 101.887264 116.28455 \n",
       "L 102.930082 119.871382 \n",
       "L 105.015716 128.527344 \n",
       "L 107.101351 137.367368 \n",
       "L 108.144168 141.129841 \n",
       "L 109.186986 144.089822 \n",
       "L 110.229803 146.021843 \n",
       "L 111.272621 146.758771 \n",
       "L 112.315438 146.205104 \n",
       "L 113.358255 144.346032 \n",
       "L 114.401073 141.25151 \n",
       "L 115.44389 137.074881 \n",
       "L 116.486708 132.045954 \n",
       "L 120.657977 109.872258 \n",
       "L 121.700795 105.616659 \n",
       "L 122.743612 102.54211 \n",
       "L 123.786429 100.889653 \n",
       "L 124.829247 100.816435 \n",
       "L 125.872064 102.382548 \n",
       "L 126.914882 105.543767 \n",
       "L 127.957699 110.150871 \n",
       "L 129.000516 115.955801 \n",
       "L 131.086151 129.75568 \n",
       "L 133.171786 143.611684 \n",
       "L 134.214603 149.429313 \n",
       "L 135.257421 153.95393 \n",
       "L 136.300238 156.852281 \n",
       "L 137.343055 157.88555 \n",
       "L 138.385873 156.927821 \n",
       "L 139.42869 153.977795 \n",
       "L 140.471508 149.162756 \n",
       "L 141.514325 142.734317 \n",
       "L 143.59996 126.582957 \n",
       "L 145.685595 109.36793 \n",
       "L 146.728412 101.732194 \n",
       "L 147.771229 95.443842 \n",
       "L 148.814047 90.946782 \n",
       "L 149.856864 88.582685 \n",
       "L 150.899682 88.565942 \n",
       "L 151.942499 90.966128 \n",
       "L 152.985316 95.699333 \n",
       "L 154.028134 102.529164 \n",
       "L 155.070951 111.077627 \n",
       "L 157.156586 131.240949 \n",
       "L 159.242221 151.303017 \n",
       "L 160.285038 159.664123 \n",
       "L 161.327856 166.126168 \n",
       "L 162.370673 170.222874 \n",
       "L 163.41349 171.627051 \n",
       "L 164.456308 170.175414 \n",
       "L 165.499125 165.883523 \n",
       "L 166.541942 158.949586 \n",
       "L 167.58476 149.746611 \n",
       "L 169.670395 126.773113 \n",
       "L 171.756029 102.459691 \n",
       "L 172.798847 91.733994 \n",
       "L 173.841664 82.938248 \n",
       "L 174.884482 76.684954 \n",
       "L 175.927299 73.439524 \n",
       "L 176.970116 73.486646 \n",
       "L 178.012934 76.907414 \n",
       "L 179.055751 83.568952 \n",
       "L 180.098569 93.127533 \n",
       "L 181.141386 105.045314 \n",
       "L 183.227021 133.025544 \n",
       "L 185.312656 160.713196 \n",
       "L 186.355473 172.200729 \n",
       "L 187.39829 181.045677 \n",
       "L 188.441108 186.618618 \n",
       "L 189.483925 188.48405 \n",
       "L 190.526743 186.432973 \n",
       "L 191.56956 180.501743 \n",
       "L 192.612377 170.975629 \n",
       "L 193.655195 158.376523 \n",
       "L 195.740829 127.049363 \n",
       "L 197.826464 94.041338 \n",
       "L 198.869282 79.529624 \n",
       "L 199.912099 67.660319 \n",
       "L 200.954916 59.252157 \n",
       "L 201.997734 54.921851 \n",
       "L 203.040551 55.039987 \n",
       "L 204.083369 59.701654 \n",
       "L 205.126186 68.714037 \n",
       "L 206.169003 81.60215 \n",
       "L 207.211821 97.632757 \n",
       "L 209.297456 135.158016 \n",
       "L 211.38309 172.160392 \n",
       "L 212.425908 187.46861 \n",
       "L 213.468725 199.22752 \n",
       "L 214.511543 206.60869 \n",
       "L 215.55436 209.044543 \n",
       "L 216.597177 206.270375 \n",
       "L 217.639995 198.347938 \n",
       "L 218.682812 185.66868 \n",
       "L 219.72563 168.93598 \n",
       "L 221.811264 127.436645 \n",
       "L 223.896899 83.837152 \n",
       "L 224.939716 64.711655 \n",
       "L 225.982534 49.094988 \n",
       "L 227.025351 38.056874 \n",
       "L 228.068169 32.398125 \n",
       "L 229.110986 32.593819 \n",
       "L 230.153803 38.756067 \n",
       "L 231.196621 50.619158 \n",
       "L 232.239438 67.548518 \n",
       "L 233.282256 88.573395 \n",
       "L 235.36789 137.693882 \n",
       "L 237.453525 186.016592 \n",
       "L 238.496343 205.970519 \n",
       "L 239.53916 221.275099 \n",
       "L 240.581977 230.860275 \n",
       "L 241.624795 233.998125 \n",
       "L 242.667612 230.356303 \n",
       "L 243.71043 220.027334 \n",
       "L 244.753247 203.53142 \n",
       "L 245.796064 181.792029 \n",
       "L 246.838882 156.085267 \n",
       "L 246.838882 156.085267 \n",
       "\" clip-path=\"url(#pef253b936f)\" style=\"fill: none; stroke: #1f77b4; stroke-width: 1.5; stroke-linecap: square\"/>\n",
       "   </g>\n",
       "   <g id=\"patch_3\">\n",
       "    <path d=\"M 28.942188 244.078125 \n",
       "L 28.942188 22.318125 \n",
       "\" style=\"fill: none; stroke: #000000; stroke-width: 0.8; stroke-linejoin: miter; stroke-linecap: square\"/>\n",
       "   </g>\n",
       "   <g id=\"patch_4\">\n",
       "    <path d=\"M 257.214915 244.078125 \n",
       "L 257.214915 22.318125 \n",
       "\" style=\"fill: none; stroke: #000000; stroke-width: 0.8; stroke-linejoin: miter; stroke-linecap: square\"/>\n",
       "   </g>\n",
       "   <g id=\"patch_5\">\n",
       "    <path d=\"M 28.942188 244.078125 \n",
       "L 257.214915 244.078125 \n",
       "\" style=\"fill: none; stroke: #000000; stroke-width: 0.8; stroke-linejoin: miter; stroke-linecap: square\"/>\n",
       "   </g>\n",
       "   <g id=\"patch_6\">\n",
       "    <path d=\"M 28.942188 22.318125 \n",
       "L 257.214915 22.318125 \n",
       "\" style=\"fill: none; stroke: #000000; stroke-width: 0.8; stroke-linejoin: miter; stroke-linecap: square\"/>\n",
       "   </g>\n",
       "   <g id=\"text_12\">\n",
       "    <!-- f(x) = x*exp(x)*sin(50*x) -->\n",
       "    <g transform=\"translate(67.696989 16.318125) scale(0.12 -0.12)\">\n",
       "     <defs>\n",
       "      <path id=\"DejaVuSans-66\" d=\"M 2375 4863 \n",
       "L 2375 4384 \n",
       "L 1825 4384 \n",
       "Q 1516 4384 1395 4259 \n",
       "Q 1275 4134 1275 3809 \n",
       "L 1275 3500 \n",
       "L 2222 3500 \n",
       "L 2222 3053 \n",
       "L 1275 3053 \n",
       "L 1275 0 \n",
       "L 697 0 \n",
       "L 697 3053 \n",
       "L 147 3053 \n",
       "L 147 3500 \n",
       "L 697 3500 \n",
       "L 697 3744 \n",
       "Q 697 4328 969 4595 \n",
       "Q 1241 4863 1831 4863 \n",
       "L 2375 4863 \n",
       "z\n",
       "\" transform=\"scale(0.015625)\"/>\n",
       "      <path id=\"DejaVuSans-28\" d=\"M 1984 4856 \n",
       "Q 1566 4138 1362 3434 \n",
       "Q 1159 2731 1159 2009 \n",
       "Q 1159 1288 1364 580 \n",
       "Q 1569 -128 1984 -844 \n",
       "L 1484 -844 \n",
       "Q 1016 -109 783 600 \n",
       "Q 550 1309 550 2009 \n",
       "Q 550 2706 781 3412 \n",
       "Q 1013 4119 1484 4856 \n",
       "L 1984 4856 \n",
       "z\n",
       "\" transform=\"scale(0.015625)\"/>\n",
       "      <path id=\"DejaVuSans-78\" d=\"M 3513 3500 \n",
       "L 2247 1797 \n",
       "L 3578 0 \n",
       "L 2900 0 \n",
       "L 1881 1375 \n",
       "L 863 0 \n",
       "L 184 0 \n",
       "L 1544 1831 \n",
       "L 300 3500 \n",
       "L 978 3500 \n",
       "L 1906 2253 \n",
       "L 2834 3500 \n",
       "L 3513 3500 \n",
       "z\n",
       "\" transform=\"scale(0.015625)\"/>\n",
       "      <path id=\"DejaVuSans-29\" d=\"M 513 4856 \n",
       "L 1013 4856 \n",
       "Q 1481 4119 1714 3412 \n",
       "Q 1947 2706 1947 2009 \n",
       "Q 1947 1309 1714 600 \n",
       "Q 1481 -109 1013 -844 \n",
       "L 513 -844 \n",
       "Q 928 -128 1133 580 \n",
       "Q 1338 1288 1338 2009 \n",
       "Q 1338 2731 1133 3434 \n",
       "Q 928 4138 513 4856 \n",
       "z\n",
       "\" transform=\"scale(0.015625)\"/>\n",
       "      <path id=\"DejaVuSans-20\" transform=\"scale(0.015625)\"/>\n",
       "      <path id=\"DejaVuSans-3d\" d=\"M 678 2906 \n",
       "L 4684 2906 \n",
       "L 4684 2381 \n",
       "L 678 2381 \n",
       "L 678 2906 \n",
       "z\n",
       "M 678 1631 \n",
       "L 4684 1631 \n",
       "L 4684 1100 \n",
       "L 678 1100 \n",
       "L 678 1631 \n",
       "z\n",
       "\" transform=\"scale(0.015625)\"/>\n",
       "      <path id=\"DejaVuSans-2a\" d=\"M 3009 3897 \n",
       "L 1888 3291 \n",
       "L 3009 2681 \n",
       "L 2828 2375 \n",
       "L 1778 3009 \n",
       "L 1778 1831 \n",
       "L 1422 1831 \n",
       "L 1422 3009 \n",
       "L 372 2375 \n",
       "L 191 2681 \n",
       "L 1313 3291 \n",
       "L 191 3897 \n",
       "L 372 4206 \n",
       "L 1422 3572 \n",
       "L 1422 4750 \n",
       "L 1778 4750 \n",
       "L 1778 3572 \n",
       "L 2828 4206 \n",
       "L 3009 3897 \n",
       "z\n",
       "\" transform=\"scale(0.015625)\"/>\n",
       "      <path id=\"DejaVuSans-65\" d=\"M 3597 1894 \n",
       "L 3597 1613 \n",
       "L 953 1613 \n",
       "Q 991 1019 1311 708 \n",
       "Q 1631 397 2203 397 \n",
       "Q 2534 397 2845 478 \n",
       "Q 3156 559 3463 722 \n",
       "L 3463 178 \n",
       "Q 3153 47 2828 -22 \n",
       "Q 2503 -91 2169 -91 \n",
       "Q 1331 -91 842 396 \n",
       "Q 353 884 353 1716 \n",
       "Q 353 2575 817 3079 \n",
       "Q 1281 3584 2069 3584 \n",
       "Q 2775 3584 3186 3129 \n",
       "Q 3597 2675 3597 1894 \n",
       "z\n",
       "M 3022 2063 \n",
       "Q 3016 2534 2758 2815 \n",
       "Q 2500 3097 2075 3097 \n",
       "Q 1594 3097 1305 2825 \n",
       "Q 1016 2553 972 2059 \n",
       "L 3022 2063 \n",
       "z\n",
       "\" transform=\"scale(0.015625)\"/>\n",
       "      <path id=\"DejaVuSans-70\" d=\"M 1159 525 \n",
       "L 1159 -1331 \n",
       "L 581 -1331 \n",
       "L 581 3500 \n",
       "L 1159 3500 \n",
       "L 1159 2969 \n",
       "Q 1341 3281 1617 3432 \n",
       "Q 1894 3584 2278 3584 \n",
       "Q 2916 3584 3314 3078 \n",
       "Q 3713 2572 3713 1747 \n",
       "Q 3713 922 3314 415 \n",
       "Q 2916 -91 2278 -91 \n",
       "Q 1894 -91 1617 61 \n",
       "Q 1341 213 1159 525 \n",
       "z\n",
       "M 3116 1747 \n",
       "Q 3116 2381 2855 2742 \n",
       "Q 2594 3103 2138 3103 \n",
       "Q 1681 3103 1420 2742 \n",
       "Q 1159 2381 1159 1747 \n",
       "Q 1159 1113 1420 752 \n",
       "Q 1681 391 2138 391 \n",
       "Q 2594 391 2855 752 \n",
       "Q 3116 1113 3116 1747 \n",
       "z\n",
       "\" transform=\"scale(0.015625)\"/>\n",
       "      <path id=\"DejaVuSans-73\" d=\"M 2834 3397 \n",
       "L 2834 2853 \n",
       "Q 2591 2978 2328 3040 \n",
       "Q 2066 3103 1784 3103 \n",
       "Q 1356 3103 1142 2972 \n",
       "Q 928 2841 928 2578 \n",
       "Q 928 2378 1081 2264 \n",
       "Q 1234 2150 1697 2047 \n",
       "L 1894 2003 \n",
       "Q 2506 1872 2764 1633 \n",
       "Q 3022 1394 3022 966 \n",
       "Q 3022 478 2636 193 \n",
       "Q 2250 -91 1575 -91 \n",
       "Q 1294 -91 989 -36 \n",
       "Q 684 19 347 128 \n",
       "L 347 722 \n",
       "Q 666 556 975 473 \n",
       "Q 1284 391 1588 391 \n",
       "Q 1994 391 2212 530 \n",
       "Q 2431 669 2431 922 \n",
       "Q 2431 1156 2273 1281 \n",
       "Q 2116 1406 1581 1522 \n",
       "L 1381 1569 \n",
       "Q 847 1681 609 1914 \n",
       "Q 372 2147 372 2553 \n",
       "Q 372 3047 722 3315 \n",
       "Q 1072 3584 1716 3584 \n",
       "Q 2034 3584 2315 3537 \n",
       "Q 2597 3491 2834 3397 \n",
       "z\n",
       "\" transform=\"scale(0.015625)\"/>\n",
       "      <path id=\"DejaVuSans-69\" d=\"M 603 3500 \n",
       "L 1178 3500 \n",
       "L 1178 0 \n",
       "L 603 0 \n",
       "L 603 3500 \n",
       "z\n",
       "M 603 4863 \n",
       "L 1178 4863 \n",
       "L 1178 4134 \n",
       "L 603 4134 \n",
       "L 603 4863 \n",
       "z\n",
       "\" transform=\"scale(0.015625)\"/>\n",
       "      <path id=\"DejaVuSans-6e\" d=\"M 3513 2113 \n",
       "L 3513 0 \n",
       "L 2938 0 \n",
       "L 2938 2094 \n",
       "Q 2938 2591 2744 2837 \n",
       "Q 2550 3084 2163 3084 \n",
       "Q 1697 3084 1428 2787 \n",
       "Q 1159 2491 1159 1978 \n",
       "L 1159 0 \n",
       "L 581 0 \n",
       "L 581 3500 \n",
       "L 1159 3500 \n",
       "L 1159 2956 \n",
       "Q 1366 3272 1645 3428 \n",
       "Q 1925 3584 2291 3584 \n",
       "Q 2894 3584 3203 3211 \n",
       "Q 3513 2838 3513 2113 \n",
       "z\n",
       "\" transform=\"scale(0.015625)\"/>\n",
       "      <path id=\"DejaVuSans-35\" d=\"M 691 4666 \n",
       "L 3169 4666 \n",
       "L 3169 4134 \n",
       "L 1269 4134 \n",
       "L 1269 2991 \n",
       "Q 1406 3038 1543 3061 \n",
       "Q 1681 3084 1819 3084 \n",
       "Q 2600 3084 3056 2656 \n",
       "Q 3513 2228 3513 1497 \n",
       "Q 3513 744 3044 326 \n",
       "Q 2575 -91 1722 -91 \n",
       "Q 1428 -91 1123 -41 \n",
       "Q 819 9 494 109 \n",
       "L 494 744 \n",
       "Q 775 591 1075 516 \n",
       "Q 1375 441 1709 441 \n",
       "Q 2250 441 2565 725 \n",
       "Q 2881 1009 2881 1497 \n",
       "Q 2881 1984 2565 2268 \n",
       "Q 2250 2553 1709 2553 \n",
       "Q 1456 2553 1204 2497 \n",
       "Q 953 2441 691 2322 \n",
       "L 691 4666 \n",
       "z\n",
       "\" transform=\"scale(0.015625)\"/>\n",
       "     </defs>\n",
       "     <use xlink:href=\"#DejaVuSans-66\"/>\n",
       "     <use xlink:href=\"#DejaVuSans-28\" x=\"35.205078\"/>\n",
       "     <use xlink:href=\"#DejaVuSans-78\" x=\"74.21875\"/>\n",
       "     <use xlink:href=\"#DejaVuSans-29\" x=\"133.398438\"/>\n",
       "     <use xlink:href=\"#DejaVuSans-20\" x=\"172.412109\"/>\n",
       "     <use xlink:href=\"#DejaVuSans-3d\" x=\"204.199219\"/>\n",
       "     <use xlink:href=\"#DejaVuSans-20\" x=\"287.988281\"/>\n",
       "     <use xlink:href=\"#DejaVuSans-78\" x=\"319.775391\"/>\n",
       "     <use xlink:href=\"#DejaVuSans-2a\" x=\"378.955078\"/>\n",
       "     <use xlink:href=\"#DejaVuSans-65\" x=\"428.955078\"/>\n",
       "     <use xlink:href=\"#DejaVuSans-78\" x=\"488.728516\"/>\n",
       "     <use xlink:href=\"#DejaVuSans-70\" x=\"547.908203\"/>\n",
       "     <use xlink:href=\"#DejaVuSans-28\" x=\"611.384766\"/>\n",
       "     <use xlink:href=\"#DejaVuSans-78\" x=\"650.398438\"/>\n",
       "     <use xlink:href=\"#DejaVuSans-29\" x=\"709.578125\"/>\n",
       "     <use xlink:href=\"#DejaVuSans-2a\" x=\"748.591797\"/>\n",
       "     <use xlink:href=\"#DejaVuSans-73\" x=\"798.591797\"/>\n",
       "     <use xlink:href=\"#DejaVuSans-69\" x=\"850.691406\"/>\n",
       "     <use xlink:href=\"#DejaVuSans-6e\" x=\"878.474609\"/>\n",
       "     <use xlink:href=\"#DejaVuSans-28\" x=\"941.853516\"/>\n",
       "     <use xlink:href=\"#DejaVuSans-35\" x=\"980.867188\"/>\n",
       "     <use xlink:href=\"#DejaVuSans-30\" x=\"1044.490234\"/>\n",
       "     <use xlink:href=\"#DejaVuSans-2a\" x=\"1108.113281\"/>\n",
       "     <use xlink:href=\"#DejaVuSans-78\" x=\"1158.113281\"/>\n",
       "     <use xlink:href=\"#DejaVuSans-29\" x=\"1217.292969\"/>\n",
       "    </g>\n",
       "   </g>\n",
       "  </g>\n",
       "  <g id=\"axes_2\">\n",
       "   <g id=\"patch_7\">\n",
       "    <path d=\"M 302.86946 244.078125 \n",
       "L 531.142187 244.078125 \n",
       "L 531.142187 22.318125 \n",
       "L 302.86946 22.318125 \n",
       "z\n",
       "\" style=\"fill: #ffffff\"/>\n",
       "   </g>\n",
       "   <g id=\"matplotlib.axis_3\">\n",
       "    <g id=\"xtick_7\">\n",
       "     <g id=\"line2d_24\">\n",
       "      <path d=\"M 313.245493 244.078125 \n",
       "L 313.245493 22.318125 \n",
       "\" clip-path=\"url(#pacf80c4a7b)\" style=\"fill: none; stroke: #b0b0b0; stroke-width: 0.8; stroke-linecap: square\"/>\n",
       "     </g>\n",
       "     <g id=\"line2d_25\">\n",
       "      <g>\n",
       "       <use xlink:href=\"#mf63d5cd066\" x=\"313.245493\" y=\"244.078125\" style=\"stroke: #000000; stroke-width: 0.8\"/>\n",
       "      </g>\n",
       "     </g>\n",
       "     <g id=\"text_13\">\n",
       "      <!-- 0.0 -->\n",
       "      <g transform=\"translate(305.293931 258.676562) scale(0.1 -0.1)\">\n",
       "       <use xlink:href=\"#DejaVuSans-30\"/>\n",
       "       <use xlink:href=\"#DejaVuSans-2e\" x=\"63.623047\"/>\n",
       "       <use xlink:href=\"#DejaVuSans-30\" x=\"95.410156\"/>\n",
       "      </g>\n",
       "     </g>\n",
       "    </g>\n",
       "    <g id=\"xtick_8\">\n",
       "     <g id=\"line2d_26\">\n",
       "      <path d=\"M 354.749626 244.078125 \n",
       "L 354.749626 22.318125 \n",
       "\" clip-path=\"url(#pacf80c4a7b)\" style=\"fill: none; stroke: #b0b0b0; stroke-width: 0.8; stroke-linecap: square\"/>\n",
       "     </g>\n",
       "     <g id=\"line2d_27\">\n",
       "      <g>\n",
       "       <use xlink:href=\"#mf63d5cd066\" x=\"354.749626\" y=\"244.078125\" style=\"stroke: #000000; stroke-width: 0.8\"/>\n",
       "      </g>\n",
       "     </g>\n",
       "     <g id=\"text_14\">\n",
       "      <!-- 0.2 -->\n",
       "      <g transform=\"translate(346.798063 258.676562) scale(0.1 -0.1)\">\n",
       "       <use xlink:href=\"#DejaVuSans-30\"/>\n",
       "       <use xlink:href=\"#DejaVuSans-2e\" x=\"63.623047\"/>\n",
       "       <use xlink:href=\"#DejaVuSans-32\" x=\"95.410156\"/>\n",
       "      </g>\n",
       "     </g>\n",
       "    </g>\n",
       "    <g id=\"xtick_9\">\n",
       "     <g id=\"line2d_28\">\n",
       "      <path d=\"M 396.253758 244.078125 \n",
       "L 396.253758 22.318125 \n",
       "\" clip-path=\"url(#pacf80c4a7b)\" style=\"fill: none; stroke: #b0b0b0; stroke-width: 0.8; stroke-linecap: square\"/>\n",
       "     </g>\n",
       "     <g id=\"line2d_29\">\n",
       "      <g>\n",
       "       <use xlink:href=\"#mf63d5cd066\" x=\"396.253758\" y=\"244.078125\" style=\"stroke: #000000; stroke-width: 0.8\"/>\n",
       "      </g>\n",
       "     </g>\n",
       "     <g id=\"text_15\">\n",
       "      <!-- 0.4 -->\n",
       "      <g transform=\"translate(388.302195 258.676562) scale(0.1 -0.1)\">\n",
       "       <use xlink:href=\"#DejaVuSans-30\"/>\n",
       "       <use xlink:href=\"#DejaVuSans-2e\" x=\"63.623047\"/>\n",
       "       <use xlink:href=\"#DejaVuSans-34\" x=\"95.410156\"/>\n",
       "      </g>\n",
       "     </g>\n",
       "    </g>\n",
       "    <g id=\"xtick_10\">\n",
       "     <g id=\"line2d_30\">\n",
       "      <path d=\"M 437.75789 244.078125 \n",
       "L 437.75789 22.318125 \n",
       "\" clip-path=\"url(#pacf80c4a7b)\" style=\"fill: none; stroke: #b0b0b0; stroke-width: 0.8; stroke-linecap: square\"/>\n",
       "     </g>\n",
       "     <g id=\"line2d_31\">\n",
       "      <g>\n",
       "       <use xlink:href=\"#mf63d5cd066\" x=\"437.75789\" y=\"244.078125\" style=\"stroke: #000000; stroke-width: 0.8\"/>\n",
       "      </g>\n",
       "     </g>\n",
       "     <g id=\"text_16\">\n",
       "      <!-- 0.6 -->\n",
       "      <g transform=\"translate(429.806327 258.676562) scale(0.1 -0.1)\">\n",
       "       <use xlink:href=\"#DejaVuSans-30\"/>\n",
       "       <use xlink:href=\"#DejaVuSans-2e\" x=\"63.623047\"/>\n",
       "       <use xlink:href=\"#DejaVuSans-36\" x=\"95.410156\"/>\n",
       "      </g>\n",
       "     </g>\n",
       "    </g>\n",
       "    <g id=\"xtick_11\">\n",
       "     <g id=\"line2d_32\">\n",
       "      <path d=\"M 479.262022 244.078125 \n",
       "L 479.262022 22.318125 \n",
       "\" clip-path=\"url(#pacf80c4a7b)\" style=\"fill: none; stroke: #b0b0b0; stroke-width: 0.8; stroke-linecap: square\"/>\n",
       "     </g>\n",
       "     <g id=\"line2d_33\">\n",
       "      <g>\n",
       "       <use xlink:href=\"#mf63d5cd066\" x=\"479.262022\" y=\"244.078125\" style=\"stroke: #000000; stroke-width: 0.8\"/>\n",
       "      </g>\n",
       "     </g>\n",
       "     <g id=\"text_17\">\n",
       "      <!-- 0.8 -->\n",
       "      <g transform=\"translate(471.31046 258.676562) scale(0.1 -0.1)\">\n",
       "       <use xlink:href=\"#DejaVuSans-30\"/>\n",
       "       <use xlink:href=\"#DejaVuSans-2e\" x=\"63.623047\"/>\n",
       "       <use xlink:href=\"#DejaVuSans-38\" x=\"95.410156\"/>\n",
       "      </g>\n",
       "     </g>\n",
       "    </g>\n",
       "    <g id=\"xtick_12\">\n",
       "     <g id=\"line2d_34\">\n",
       "      <path d=\"M 520.766154 244.078125 \n",
       "L 520.766154 22.318125 \n",
       "\" clip-path=\"url(#pacf80c4a7b)\" style=\"fill: none; stroke: #b0b0b0; stroke-width: 0.8; stroke-linecap: square\"/>\n",
       "     </g>\n",
       "     <g id=\"line2d_35\">\n",
       "      <g>\n",
       "       <use xlink:href=\"#mf63d5cd066\" x=\"520.766154\" y=\"244.078125\" style=\"stroke: #000000; stroke-width: 0.8\"/>\n",
       "      </g>\n",
       "     </g>\n",
       "     <g id=\"text_18\">\n",
       "      <!-- 1.0 -->\n",
       "      <g transform=\"translate(512.814592 258.676562) scale(0.1 -0.1)\">\n",
       "       <use xlink:href=\"#DejaVuSans-31\"/>\n",
       "       <use xlink:href=\"#DejaVuSans-2e\" x=\"63.623047\"/>\n",
       "       <use xlink:href=\"#DejaVuSans-30\" x=\"95.410156\"/>\n",
       "      </g>\n",
       "     </g>\n",
       "    </g>\n",
       "   </g>\n",
       "   <g id=\"matplotlib.axis_4\">\n",
       "    <g id=\"ytick_6\">\n",
       "     <g id=\"line2d_36\">\n",
       "      <path d=\"M 302.86946 216.898178 \n",
       "L 531.142187 216.898178 \n",
       "\" clip-path=\"url(#pacf80c4a7b)\" style=\"fill: none; stroke: #b0b0b0; stroke-width: 0.8; stroke-linecap: square\"/>\n",
       "     </g>\n",
       "     <g id=\"line2d_37\">\n",
       "      <g>\n",
       "       <use xlink:href=\"#m63d38b6ed3\" x=\"302.86946\" y=\"216.898178\" style=\"stroke: #000000; stroke-width: 0.8\"/>\n",
       "      </g>\n",
       "     </g>\n",
       "     <g id=\"text_19\">\n",
       "      <!-- −100 -->\n",
       "      <g transform=\"translate(268.402273 220.697397) scale(0.1 -0.1)\">\n",
       "       <use xlink:href=\"#DejaVuSans-2212\"/>\n",
       "       <use xlink:href=\"#DejaVuSans-31\" x=\"83.789062\"/>\n",
       "       <use xlink:href=\"#DejaVuSans-30\" x=\"147.412109\"/>\n",
       "       <use xlink:href=\"#DejaVuSans-30\" x=\"211.035156\"/>\n",
       "      </g>\n",
       "     </g>\n",
       "    </g>\n",
       "    <g id=\"ytick_7\">\n",
       "     <g id=\"line2d_38\">\n",
       "      <path d=\"M 302.86946 176.741644 \n",
       "L 531.142187 176.741644 \n",
       "\" clip-path=\"url(#pacf80c4a7b)\" style=\"fill: none; stroke: #b0b0b0; stroke-width: 0.8; stroke-linecap: square\"/>\n",
       "     </g>\n",
       "     <g id=\"line2d_39\">\n",
       "      <g>\n",
       "       <use xlink:href=\"#m63d38b6ed3\" x=\"302.86946\" y=\"176.741644\" style=\"stroke: #000000; stroke-width: 0.8\"/>\n",
       "      </g>\n",
       "     </g>\n",
       "     <g id=\"text_20\">\n",
       "      <!-- −50 -->\n",
       "      <g transform=\"translate(274.764773 180.540862) scale(0.1 -0.1)\">\n",
       "       <use xlink:href=\"#DejaVuSans-2212\"/>\n",
       "       <use xlink:href=\"#DejaVuSans-35\" x=\"83.789062\"/>\n",
       "       <use xlink:href=\"#DejaVuSans-30\" x=\"147.412109\"/>\n",
       "      </g>\n",
       "     </g>\n",
       "    </g>\n",
       "    <g id=\"ytick_8\">\n",
       "     <g id=\"line2d_40\">\n",
       "      <path d=\"M 302.86946 136.585109 \n",
       "L 531.142187 136.585109 \n",
       "\" clip-path=\"url(#pacf80c4a7b)\" style=\"fill: none; stroke: #b0b0b0; stroke-width: 0.8; stroke-linecap: square\"/>\n",
       "     </g>\n",
       "     <g id=\"line2d_41\">\n",
       "      <g>\n",
       "       <use xlink:href=\"#m63d38b6ed3\" x=\"302.86946\" y=\"136.585109\" style=\"stroke: #000000; stroke-width: 0.8\"/>\n",
       "      </g>\n",
       "     </g>\n",
       "     <g id=\"text_21\">\n",
       "      <!-- 0 -->\n",
       "      <g transform=\"translate(289.50696 140.384327) scale(0.1 -0.1)\">\n",
       "       <use xlink:href=\"#DejaVuSans-30\"/>\n",
       "      </g>\n",
       "     </g>\n",
       "    </g>\n",
       "    <g id=\"ytick_9\">\n",
       "     <g id=\"line2d_42\">\n",
       "      <path d=\"M 302.86946 96.428574 \n",
       "L 531.142187 96.428574 \n",
       "\" clip-path=\"url(#pacf80c4a7b)\" style=\"fill: none; stroke: #b0b0b0; stroke-width: 0.8; stroke-linecap: square\"/>\n",
       "     </g>\n",
       "     <g id=\"line2d_43\">\n",
       "      <g>\n",
       "       <use xlink:href=\"#m63d38b6ed3\" x=\"302.86946\" y=\"96.428574\" style=\"stroke: #000000; stroke-width: 0.8\"/>\n",
       "      </g>\n",
       "     </g>\n",
       "     <g id=\"text_22\">\n",
       "      <!-- 50 -->\n",
       "      <g transform=\"translate(283.14446 100.227793) scale(0.1 -0.1)\">\n",
       "       <use xlink:href=\"#DejaVuSans-35\"/>\n",
       "       <use xlink:href=\"#DejaVuSans-30\" x=\"63.623047\"/>\n",
       "      </g>\n",
       "     </g>\n",
       "    </g>\n",
       "    <g id=\"ytick_10\">\n",
       "     <g id=\"line2d_44\">\n",
       "      <path d=\"M 302.86946 56.272039 \n",
       "L 531.142187 56.272039 \n",
       "\" clip-path=\"url(#pacf80c4a7b)\" style=\"fill: none; stroke: #b0b0b0; stroke-width: 0.8; stroke-linecap: square\"/>\n",
       "     </g>\n",
       "     <g id=\"line2d_45\">\n",
       "      <g>\n",
       "       <use xlink:href=\"#m63d38b6ed3\" x=\"302.86946\" y=\"56.272039\" style=\"stroke: #000000; stroke-width: 0.8\"/>\n",
       "      </g>\n",
       "     </g>\n",
       "     <g id=\"text_23\">\n",
       "      <!-- 100 -->\n",
       "      <g transform=\"translate(276.78196 60.071258) scale(0.1 -0.1)\">\n",
       "       <use xlink:href=\"#DejaVuSans-31\"/>\n",
       "       <use xlink:href=\"#DejaVuSans-30\" x=\"63.623047\"/>\n",
       "       <use xlink:href=\"#DejaVuSans-30\" x=\"127.246094\"/>\n",
       "      </g>\n",
       "     </g>\n",
       "    </g>\n",
       "   </g>\n",
       "   <g id=\"line2d_46\">\n",
       "    <path d=\"M 313.245493 136.585109 \n",
       "L 315.331128 135.833201 \n",
       "L 316.373945 135.570599 \n",
       "L 317.416763 135.437975 \n",
       "L 318.45958 135.462196 \n",
       "L 319.502398 135.655261 \n",
       "L 320.545215 136.01258 \n",
       "L 322.63085 137.118278 \n",
       "L 325.759302 139.022435 \n",
       "L 326.802119 139.47737 \n",
       "L 327.844937 139.743025 \n",
       "L 328.887754 139.774256 \n",
       "L 329.930572 139.542378 \n",
       "L 330.973389 139.038704 \n",
       "L 332.016206 138.276631 \n",
       "L 333.059024 137.292064 \n",
       "L 335.144659 134.901593 \n",
       "L 337.230293 132.509743 \n",
       "L 338.273111 131.549516 \n",
       "L 339.315928 130.866852 \n",
       "L 340.358745 130.535853 \n",
       "L 341.401563 130.609608 \n",
       "L 342.44438 131.114822 \n",
       "L 343.487198 132.048132 \n",
       "L 344.530015 133.374455 \n",
       "L 345.572832 135.027603 \n",
       "L 350.786919 144.249556 \n",
       "L 351.829737 145.35638 \n",
       "L 352.872554 145.938513 \n",
       "L 353.915372 145.923404 \n",
       "L 354.958189 145.275962 \n",
       "L 356.001006 144.00305 \n",
       "L 357.043824 142.155248 \n",
       "L 358.086641 139.825621 \n",
       "L 360.172276 134.277108 \n",
       "L 362.257911 128.720869 \n",
       "L 363.300728 126.417216 \n",
       "L 364.343546 124.667831 \n",
       "L 365.386363 123.618221 \n",
       "L 366.42918 123.373684 \n",
       "L 367.471998 123.990268 \n",
       "L 368.514815 125.468684 \n",
       "L 369.557632 127.751737 \n",
       "L 370.60045 130.72558 \n",
       "L 372.686085 138.041696 \n",
       "L 374.771719 145.658401 \n",
       "L 375.814537 148.950497 \n",
       "L 376.857354 151.577898 \n",
       "L 377.900172 153.338728 \n",
       "L 378.942989 154.080113 \n",
       "L 379.985806 153.710367 \n",
       "L 381.028624 152.207572 \n",
       "L 382.071441 149.623815 \n",
       "L 383.114259 146.084658 \n",
       "L 384.157076 141.783679 \n",
       "L 388.328346 122.531228 \n",
       "L 389.371163 118.779657 \n",
       "L 390.41398 116.041113 \n",
       "L 391.456798 114.532106 \n",
       "L 392.499615 114.396559 \n",
       "L 393.542433 115.693732 \n",
       "L 394.58525 118.391302 \n",
       "L 395.628067 122.364245 \n",
       "L 396.670885 127.399791 \n",
       "L 398.756519 139.439659 \n",
       "L 400.842154 151.595987 \n",
       "L 401.884972 156.720741 \n",
       "L 402.927789 160.720001 \n",
       "L 403.970606 163.296735 \n",
       "L 405.013424 164.236546 \n",
       "L 406.056241 163.424361 \n",
       "L 407.099059 160.855149 \n",
       "L 408.141876 156.637802 \n",
       "L 409.184693 150.991682 \n",
       "L 411.270328 136.771473 \n",
       "L 413.355963 121.586487 \n",
       "L 414.39878 114.845987 \n",
       "L 415.441598 109.294414 \n",
       "L 416.484415 105.326516 \n",
       "L 417.527233 103.246626 \n",
       "L 418.57005 103.246202 \n",
       "L 419.612867 105.388037 \n",
       "L 420.655685 109.598367 \n",
       "L 421.698502 115.667614 \n",
       "L 422.74132 123.259969 \n",
       "L 424.826954 141.155457 \n",
       "L 426.912589 158.936135 \n",
       "L 427.955406 166.330615 \n",
       "L 428.998224 172.028602 \n",
       "L 430.041041 175.615645 \n",
       "L 431.083859 176.801627 \n",
       "L 432.126676 175.442968 \n",
       "L 433.169493 171.555953 \n",
       "L 434.212311 165.320089 \n",
       "L 435.255128 157.071005 \n",
       "L 437.340763 136.542573 \n",
       "L 439.426398 114.894165 \n",
       "L 440.469215 105.37847 \n",
       "L 441.512033 97.60574 \n",
       "L 442.55485 92.120825 \n",
       "L 443.597667 89.335979 \n",
       "L 444.640485 89.500856 \n",
       "L 445.683302 92.682199 \n",
       "L 446.72612 98.7548 \n",
       "L 447.768937 107.40459 \n",
       "L 448.811754 118.143972 \n",
       "L 450.897389 143.245058 \n",
       "L 452.983024 167.944616 \n",
       "L 454.025841 178.130768 \n",
       "L 455.068659 185.91816 \n",
       "L 456.111476 190.748342 \n",
       "L 457.154293 192.238522 \n",
       "L 458.197111 190.210482 \n",
       "L 459.239928 184.707057 \n",
       "L 460.282746 175.994803 \n",
       "L 461.325563 164.552361 \n",
       "L 463.411198 136.286033 \n",
       "L 465.496833 106.711119 \n",
       "L 466.53965 93.792437 \n",
       "L 467.582467 83.296047 \n",
       "L 468.625285 75.950456 \n",
       "L 469.668102 72.299812 \n",
       "L 470.71092 72.664697 \n",
       "L 471.753737 77.11634 \n",
       "L 472.796554 85.466217 \n",
       "L 473.839372 97.272068 \n",
       "L 474.882189 111.860327 \n",
       "L 479.053459 178.932763 \n",
       "L 480.096276 192.532402 \n",
       "L 481.139094 202.875027 \n",
       "L 482.181911 209.226543 \n",
       "L 483.224728 211.091268 \n",
       "L 484.267546 208.249014 \n",
       "L 485.310363 200.775346 \n",
       "L 486.35318 189.043365 \n",
       "L 487.395998 173.706487 \n",
       "L 489.481633 136.003508 \n",
       "L 491.567267 96.762533 \n",
       "L 492.610085 79.694001 \n",
       "L 493.652902 65.875755 \n",
       "L 494.69572 56.259866 \n",
       "L 495.738537 51.550901 \n",
       "L 496.781354 52.155552 \n",
       "L 497.824172 58.150216 \n",
       "L 498.866989 69.269005 \n",
       "L 499.909807 84.913375 \n",
       "L 500.952624 104.183225 \n",
       "L 505.123894 192.264852 \n",
       "L 506.166711 210.017146 \n",
       "L 507.209528 223.469234 \n",
       "L 508.252346 231.673763 \n",
       "L 509.295163 233.998125 \n",
       "L 510.337981 230.171392 \n",
       "L 511.380798 220.309137 \n",
       "L 512.423615 204.914083 \n",
       "L 513.466433 184.852047 \n",
       "L 515.552067 135.698254 \n",
       "L 517.637702 84.727324 \n",
       "L 518.68052 62.622286 \n",
       "L 519.723337 44.771551 \n",
       "L 520.766154 32.398125 \n",
       "L 520.766154 32.398125 \n",
       "\" clip-path=\"url(#pacf80c4a7b)\" style=\"fill: none; stroke: #1f77b4; stroke-width: 1.5; stroke-linecap: square\"/>\n",
       "   </g>\n",
       "   <g id=\"patch_8\">\n",
       "    <path d=\"M 302.86946 244.078125 \n",
       "L 302.86946 22.318125 \n",
       "\" style=\"fill: none; stroke: #000000; stroke-width: 0.8; stroke-linejoin: miter; stroke-linecap: square\"/>\n",
       "   </g>\n",
       "   <g id=\"patch_9\">\n",
       "    <path d=\"M 531.142187 244.078125 \n",
       "L 531.142187 22.318125 \n",
       "\" style=\"fill: none; stroke: #000000; stroke-width: 0.8; stroke-linejoin: miter; stroke-linecap: square\"/>\n",
       "   </g>\n",
       "   <g id=\"patch_10\">\n",
       "    <path d=\"M 302.86946 244.078125 \n",
       "L 531.142187 244.078125 \n",
       "\" style=\"fill: none; stroke: #000000; stroke-width: 0.8; stroke-linejoin: miter; stroke-linecap: square\"/>\n",
       "   </g>\n",
       "   <g id=\"patch_11\">\n",
       "    <path d=\"M 302.86946 22.318125 \n",
       "L 531.142187 22.318125 \n",
       "\" style=\"fill: none; stroke: #000000; stroke-width: 0.8; stroke-linejoin: miter; stroke-linecap: square\"/>\n",
       "   </g>\n",
       "   <g id=\"text_24\">\n",
       "    <!-- Derivative of f(x) -->\n",
       "    <g transform=\"translate(366.127699 16.318125) scale(0.12 -0.12)\">\n",
       "     <defs>\n",
       "      <path id=\"DejaVuSans-44\" d=\"M 1259 4147 \n",
       "L 1259 519 \n",
       "L 2022 519 \n",
       "Q 2988 519 3436 956 \n",
       "Q 3884 1394 3884 2338 \n",
       "Q 3884 3275 3436 3711 \n",
       "Q 2988 4147 2022 4147 \n",
       "L 1259 4147 \n",
       "z\n",
       "M 628 4666 \n",
       "L 1925 4666 \n",
       "Q 3281 4666 3915 4102 \n",
       "Q 4550 3538 4550 2338 \n",
       "Q 4550 1131 3912 565 \n",
       "Q 3275 0 1925 0 \n",
       "L 628 0 \n",
       "L 628 4666 \n",
       "z\n",
       "\" transform=\"scale(0.015625)\"/>\n",
       "      <path id=\"DejaVuSans-72\" d=\"M 2631 2963 \n",
       "Q 2534 3019 2420 3045 \n",
       "Q 2306 3072 2169 3072 \n",
       "Q 1681 3072 1420 2755 \n",
       "Q 1159 2438 1159 1844 \n",
       "L 1159 0 \n",
       "L 581 0 \n",
       "L 581 3500 \n",
       "L 1159 3500 \n",
       "L 1159 2956 \n",
       "Q 1341 3275 1631 3429 \n",
       "Q 1922 3584 2338 3584 \n",
       "Q 2397 3584 2469 3576 \n",
       "Q 2541 3569 2628 3553 \n",
       "L 2631 2963 \n",
       "z\n",
       "\" transform=\"scale(0.015625)\"/>\n",
       "      <path id=\"DejaVuSans-76\" d=\"M 191 3500 \n",
       "L 800 3500 \n",
       "L 1894 563 \n",
       "L 2988 3500 \n",
       "L 3597 3500 \n",
       "L 2284 0 \n",
       "L 1503 0 \n",
       "L 191 3500 \n",
       "z\n",
       "\" transform=\"scale(0.015625)\"/>\n",
       "      <path id=\"DejaVuSans-61\" d=\"M 2194 1759 \n",
       "Q 1497 1759 1228 1600 \n",
       "Q 959 1441 959 1056 \n",
       "Q 959 750 1161 570 \n",
       "Q 1363 391 1709 391 \n",
       "Q 2188 391 2477 730 \n",
       "Q 2766 1069 2766 1631 \n",
       "L 2766 1759 \n",
       "L 2194 1759 \n",
       "z\n",
       "M 3341 1997 \n",
       "L 3341 0 \n",
       "L 2766 0 \n",
       "L 2766 531 \n",
       "Q 2569 213 2275 61 \n",
       "Q 1981 -91 1556 -91 \n",
       "Q 1019 -91 701 211 \n",
       "Q 384 513 384 1019 \n",
       "Q 384 1609 779 1909 \n",
       "Q 1175 2209 1959 2209 \n",
       "L 2766 2209 \n",
       "L 2766 2266 \n",
       "Q 2766 2663 2505 2880 \n",
       "Q 2244 3097 1772 3097 \n",
       "Q 1472 3097 1187 3025 \n",
       "Q 903 2953 641 2809 \n",
       "L 641 3341 \n",
       "Q 956 3463 1253 3523 \n",
       "Q 1550 3584 1831 3584 \n",
       "Q 2591 3584 2966 3190 \n",
       "Q 3341 2797 3341 1997 \n",
       "z\n",
       "\" transform=\"scale(0.015625)\"/>\n",
       "      <path id=\"DejaVuSans-74\" d=\"M 1172 4494 \n",
       "L 1172 3500 \n",
       "L 2356 3500 \n",
       "L 2356 3053 \n",
       "L 1172 3053 \n",
       "L 1172 1153 \n",
       "Q 1172 725 1289 603 \n",
       "Q 1406 481 1766 481 \n",
       "L 2356 481 \n",
       "L 2356 0 \n",
       "L 1766 0 \n",
       "Q 1100 0 847 248 \n",
       "Q 594 497 594 1153 \n",
       "L 594 3053 \n",
       "L 172 3053 \n",
       "L 172 3500 \n",
       "L 594 3500 \n",
       "L 594 4494 \n",
       "L 1172 4494 \n",
       "z\n",
       "\" transform=\"scale(0.015625)\"/>\n",
       "      <path id=\"DejaVuSans-6f\" d=\"M 1959 3097 \n",
       "Q 1497 3097 1228 2736 \n",
       "Q 959 2375 959 1747 \n",
       "Q 959 1119 1226 758 \n",
       "Q 1494 397 1959 397 \n",
       "Q 2419 397 2687 759 \n",
       "Q 2956 1122 2956 1747 \n",
       "Q 2956 2369 2687 2733 \n",
       "Q 2419 3097 1959 3097 \n",
       "z\n",
       "M 1959 3584 \n",
       "Q 2709 3584 3137 3096 \n",
       "Q 3566 2609 3566 1747 \n",
       "Q 3566 888 3137 398 \n",
       "Q 2709 -91 1959 -91 \n",
       "Q 1206 -91 779 398 \n",
       "Q 353 888 353 1747 \n",
       "Q 353 2609 779 3096 \n",
       "Q 1206 3584 1959 3584 \n",
       "z\n",
       "\" transform=\"scale(0.015625)\"/>\n",
       "     </defs>\n",
       "     <use xlink:href=\"#DejaVuSans-44\"/>\n",
       "     <use xlink:href=\"#DejaVuSans-65\" x=\"77.001953\"/>\n",
       "     <use xlink:href=\"#DejaVuSans-72\" x=\"138.525391\"/>\n",
       "     <use xlink:href=\"#DejaVuSans-69\" x=\"179.638672\"/>\n",
       "     <use xlink:href=\"#DejaVuSans-76\" x=\"207.421875\"/>\n",
       "     <use xlink:href=\"#DejaVuSans-61\" x=\"266.601562\"/>\n",
       "     <use xlink:href=\"#DejaVuSans-74\" x=\"327.880859\"/>\n",
       "     <use xlink:href=\"#DejaVuSans-69\" x=\"367.089844\"/>\n",
       "     <use xlink:href=\"#DejaVuSans-76\" x=\"394.873047\"/>\n",
       "     <use xlink:href=\"#DejaVuSans-65\" x=\"454.052734\"/>\n",
       "     <use xlink:href=\"#DejaVuSans-20\" x=\"515.576172\"/>\n",
       "     <use xlink:href=\"#DejaVuSans-6f\" x=\"547.363281\"/>\n",
       "     <use xlink:href=\"#DejaVuSans-66\" x=\"608.544922\"/>\n",
       "     <use xlink:href=\"#DejaVuSans-20\" x=\"643.75\"/>\n",
       "     <use xlink:href=\"#DejaVuSans-66\" x=\"675.537109\"/>\n",
       "     <use xlink:href=\"#DejaVuSans-28\" x=\"710.742188\"/>\n",
       "     <use xlink:href=\"#DejaVuSans-78\" x=\"749.755859\"/>\n",
       "     <use xlink:href=\"#DejaVuSans-29\" x=\"808.935547\"/>\n",
       "    </g>\n",
       "   </g>\n",
       "  </g>\n",
       " </g>\n",
       " <defs>\n",
       "  <clipPath id=\"pef253b936f\">\n",
       "   <rect x=\"28.942188\" y=\"22.318125\" width=\"228.272727\" height=\"221.76\"/>\n",
       "  </clipPath>\n",
       "  <clipPath id=\"pacf80c4a7b\">\n",
       "   <rect x=\"302.86946\" y=\"22.318125\" width=\"228.272727\" height=\"221.76\"/>\n",
       "  </clipPath>\n",
       " </defs>\n",
       "</svg>\n"
      ],
      "text/plain": [
       "<Figure size 900x400 with 2 Axes>"
      ]
     },
     "metadata": {},
     "output_type": "display_data"
    }
   ],
   "source": [
    "xx = np.linspace(0.0,1.0,200)\n",
    "plt.figure(figsize=(9,4))\n",
    "plt.subplot(121)\n",
    "plt.plot(xx,ffun(xx))\n",
    "plt.grid(True)\n",
    "plt.title('f(x) = '+str(f))\n",
    "plt.subplot(122)\n",
    "plt.plot(xx,gfun(xx))\n",
    "plt.grid(True)\n",
    "plt.title('Derivative of f(x)');"
   ]
  },
  {
   "cell_type": "markdown",
   "metadata": {},
   "source": [
    "## Example: Truncation error of FD scheme\n",
    "\n",
    "Approximate second derivative using finite difference scheme\n",
    "$$\n",
    "f''(x) \\approx \\frac{f(x-h) - 2 f(x) + f(x+h)}{h^2}\n",
    "$$\n",
    "We perform Taylor expansion around $x$ to find the error in this approximation"
   ]
  },
  {
   "cell_type": "code",
   "execution_count": 34,
   "metadata": {},
   "outputs": [
    {
     "data": {
      "image/png": "[encoded data removed]",
      "text/latex": [
       "$\\displaystyle \\left. \\frac{d^{2}}{d \\xi_{1}^{2}} f{\\left(\\xi_{1} \\right)} \\right|_{\\substack{ \\xi_{1}=x }} + \\frac{h^{2} \\left. \\frac{d^{4}}{d \\xi_{1}^{4}} f{\\left(\\xi_{1} \\right)} \\right|_{\\substack{ \\xi_{1}=x }}}{12} + \\frac{h^{4} \\left. \\frac{d^{6}}{d \\xi_{1}^{6}} f{\\left(\\xi_{1} \\right)} \\right|_{\\substack{ \\xi_{1}=x }}}{360} + O\\left(h^{6}\\right)$"
      ],
      "text/plain": [
       "                        ⎛  4        ⎞│          ⎛  6        ⎞│            \n",
       "                      2 ⎜ d         ⎟│        4 ⎜ d         ⎟│            \n",
       "                     h ⋅⎜────(f(ξ₁))⎟│       h ⋅⎜────(f(ξ₁))⎟│            \n",
       "⎛  2        ⎞│          ⎜   4       ⎟│          ⎜   6       ⎟│            \n",
       "⎜ d         ⎟│          ⎝dξ₁        ⎠│ξ₁=x      ⎝dξ₁        ⎠│ξ₁=x    ⎛ 6⎞\n",
       "⎜────(f(ξ₁))⎟│     + ───────────────────── + ───────────────────── + O⎝h ⎠\n",
       "⎜   2       ⎟│                 12                     360                 \n",
       "⎝dξ₁        ⎠│ξ₁=x                                                        "
      ]
     },
     "execution_count": 34,
     "metadata": {},
     "output_type": "execute_result"
    }
   ],
   "source": [
    "x, h = symbols(\"x,h\")\n",
    "f = Function(\"f\")\n",
    "T = lambda h: (f(x-h) - 2*f(x) + f(x+h))/(h**2)\n",
    "series(T(h), h, x0=0, n=6)"
   ]
  },
  {
   "cell_type": "markdown",
   "metadata": {},
   "source": [
    "The above result shows that the FD formula is equal to\n",
    "$$\n",
    "\\frac{f(x-h) - 2 f(x) + f(x+h)}{h^2} = f''(x) + \\frac{h^2}{12} f^{(4)}(x) + \\frac{h^4}{360} f^{(6)}(x) + O(h^6)\n",
    "$$\n",
    "The leading error term is $O(h^2)$ \n",
    "$$\n",
    "\\frac{f(x-h) - 2 f(x) + f(x+h)}{h^2} - f''(x) = \\frac{h^2}{12} f^{(4)}(x) + \\frac{h^4}{360} f^{(6)}(x) + O(h^6)\n",
    "$$\n",
    "so that the formula is second order accurate."
   ]
  }
 ],
 "metadata": {
  "kernelspec": {
   "display_name": "Python 3 (ipykernel)",
   "language": "python",
   "name": "python3"
  },
  "language_info": {
   "codemirror_mode": {
    "name": "ipython",
    "version": 3
   },
   "file_extension": ".py",
   "mimetype": "text/x-python",
   "name": "python",
   "nbconvert_exporter": "python",
   "pygments_lexer": "ipython3",
   "version": "3.10.8"
  },
  "toc": {
   "base_numbering": 1,
   "nav_menu": {},
   "number_sections": true,
   "sideBar": true,
   "skip_h1_title": false,
   "title_cell": "Table of Contents",
   "title_sidebar": "Contents",
   "toc_cell": false,
   "toc_position": {},
   "toc_section_display": true,
   "toc_window_display": false
  }
 },
 "nbformat": 4,
 "nbformat_minor": 4
}

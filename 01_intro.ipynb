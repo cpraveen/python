{
 "cells": [
  {
   "cell_type": "markdown",
   "metadata": {},
   "source": [
    "# Introduction"
   ]
  },
  {
   "cell_type": "markdown",
   "metadata": {},
   "source": [
    "$\\newcommand{\\re}{\\mathbb{R}}$\n",
    "Python comes in two versions, 2 and 3. Version 2 is still available on some old computers but it is deprecated and should not be used. Hence we will use version 3 throughout these lectures. To see if Python is already installed\n",
    "\n",
    "```shell\n",
    "which python\n",
    "```\n",
    "\n",
    "You can check the version like this on the terminal\n",
    "\n",
    "```shell\n",
    "$ python --version\n",
    "```\n",
    "\n",
    "On some systems, you may have to use `python3` to get version 3 python.\n",
    "\n",
    "Usually Python is available on Linux/Unix computers, though it may not provide all the required libraries. You can install them using your system package manager (apt on Debian/Ubuntu) or by installing a full Python distribution like [Miniforge](https://github.com/conda-forge/miniforge). It is highly recommended to use Conda to install Python, rather than using your system package manager. If you use Conda, then make sure to set your `PATH` variable so that it finds Anaconda python rather than your system python.\n",
    "\n",
    "```shell\n",
    "export PATH=/path/to/miniforge/bin:$PATH\n",
    "```\n",
    "\n",
    "Then test that the correct python is in your `PATH`\n",
    "\n",
    "```shell\n",
    "$ which python\n",
    "```\n",
    "\n",
    "Python is organized into modules and some of the useful Python modules we will use in this tutorial are\n",
    "\n",
    " * **numpy**: provides arrays, linear algebra, random numbers, etc.\n",
    " * **scipy**: integration, optimization, linear algebra\n",
    " * **matplotlib**: for making graphs\n",
    " * **sympy**: symbolic math\n",
    "\n",
    "There are several ways to use Python.\n",
    " * python: type this in terminal, very basic, does not have interactivity or help\n",
    " \n",
    "```shell\n",
    "$ python\n",
    "Python 3.10.8 | packaged by conda-forge | (main, Nov 22 2022, 08:25:13) [Clang 14.0.6 ] on darwin\n",
    "Type \"help\", \"copyright\", \"credits\" or \"license\" for more information.\n",
    ">>>\n",
    "```\n",
    "\n",
    " * ipython: better python terminal\n",
    " \n",
    "```shell\n",
    "Python 3.10.8 | packaged by conda-forge | (main, Nov 22 2022, 08:25:13) [Clang 14.0.6 ]\n",
    "Type 'copyright', 'credits' or 'license' for more information\n",
    "IPython 8.7.0 -- An enhanced Interactive Python. Type '?' for help.\n",
    "\n",
    "In [1]:\n",
    "```\n",
    "\n",
    " * pylab: imports some modules like numpy; define an alias\n",
    "   \n",
    "```shell\n",
    "alias pylab=\"ipython --pylab --matplotlib --nosep --pprint\"\n",
    "```\n",
    "\n",
    " * jupyter notebook: This is what you are reading now. On some computers you can start a notebook using\n",
    " \n",
    "```shell\n",
    "$ ipython-notebook (conda install notebook)\n",
    "$ jupyter-lab      (conda install jupyterlab)\n",
    "```\n",
    "\n",
    "I prefer using jupyterlab since it seems more modern."
   ]
  },
  {
   "cell_type": "markdown",
   "metadata": {},
   "source": [
    "## Basic math"
   ]
  },
  {
   "cell_type": "markdown",
   "metadata": {},
   "source": [
    "The basic number types we commonly use are integers, reals and complex numbers. In Python, we can directly use variables without declaring their type. This is in contrast to most other programming languages like Fortran/C/C++ where the type of variable has to be declared before using it."
   ]
  },
  {
   "cell_type": "code",
   "execution_count": 1,
   "metadata": {},
   "outputs": [
    {
     "name": "stdout",
     "output_type": "stream",
     "text": [
      "3\n"
     ]
    }
   ],
   "source": [
    "x = 1\n",
    "y = 2\n",
    "z = x + y\n",
    "print(z)"
   ]
  },
  {
   "cell_type": "markdown",
   "metadata": {},
   "source": [
    "The type of the variable is automatically determined by what we assign to it."
   ]
  },
  {
   "cell_type": "code",
   "execution_count": 2,
   "metadata": {},
   "outputs": [
    {
     "name": "stdout",
     "output_type": "stream",
     "text": [
      "<class 'int'> <class 'int'> <class 'int'>\n"
     ]
    }
   ],
   "source": [
    "print(type(x),type(y),type(z))"
   ]
  },
  {
   "cell_type": "code",
   "execution_count": 3,
   "metadata": {},
   "outputs": [
    {
     "name": "stdout",
     "output_type": "stream",
     "text": [
      "3.0\n",
      "<class 'float'>\n"
     ]
    }
   ],
   "source": [
    "x = 1.0\n",
    "y = 2.0\n",
    "z = x + y\n",
    "print(z)\n",
    "print(type(z))"
   ]
  },
  {
   "cell_type": "markdown",
   "metadata": {},
   "source": [
    "The float type corresponds to double precision in C/C++ and has about 16 decimal places of accuracy. It is good programming practice to assign numerical values based on their intended type. If you want `x` to be a float then assign its value as `x = 1.0` and not as `x = 1`.\n",
    "\n",
    "Python will automatically determine the type when you have mixed types in some expression."
   ]
  },
  {
   "cell_type": "code",
   "execution_count": 4,
   "metadata": {},
   "outputs": [
    {
     "name": "stdout",
     "output_type": "stream",
     "text": [
      "3.345\n",
      "<class 'int'> <class 'float'> <class 'float'>\n"
     ]
    }
   ],
   "source": [
    "a = 1\n",
    "b = 2.345\n",
    "c = a + b\n",
    "print(c)\n",
    "print(type(a),type(b),type(c))"
   ]
  },
  {
   "cell_type": "markdown",
   "metadata": {},
   "source": [
    "> Implicit typing reduces code clutter, but there is potential for making mistakes, so be careful to set correct values to reflect the intended type.\n",
    "\n",
    "Variable names are case sensitive; below `a` and `A` are different variables."
   ]
  },
  {
   "cell_type": "code",
   "execution_count": 5,
   "metadata": {},
   "outputs": [
    {
     "name": "stdout",
     "output_type": "stream",
     "text": [
      "a =  1 , A =  2\n"
     ]
    }
   ],
   "source": [
    "a = 1\n",
    "A = 2\n",
    "print('a = ',a,', A = ',A)"
   ]
  },
  {
   "cell_type": "markdown",
   "metadata": {},
   "source": [
    "\n",
    "**Division** is performed using backslash symbol"
   ]
  },
  {
   "cell_type": "code",
   "execution_count": 6,
   "metadata": {},
   "outputs": [
    {
     "name": "stdout",
     "output_type": "stream",
     "text": [
      "0.3333333333333333\n"
     ]
    }
   ],
   "source": [
    "x = 1.0\n",
    "y = 3.0\n",
    "z = x/y\n",
    "print(z)"
   ]
  },
  {
   "cell_type": "markdown",
   "metadata": {},
   "source": [
    "Division of integers still returns a float (This behaviour was different in Version 2 and earlier)."
   ]
  },
  {
   "cell_type": "code",
   "execution_count": 7,
   "metadata": {},
   "outputs": [
    {
     "name": "stdout",
     "output_type": "stream",
     "text": [
      "0.5\n"
     ]
    }
   ],
   "source": [
    "print(1/2)"
   ]
  },
  {
   "cell_type": "markdown",
   "metadata": {},
   "source": [
    "Integer division can be performed with double backslash operator"
   ]
  },
  {
   "cell_type": "code",
   "execution_count": 8,
   "metadata": {},
   "outputs": [
    {
     "name": "stdout",
     "output_type": "stream",
     "text": [
      "1/2, 1//2 = 0.5 0\n",
      "1/3, 1//3 = 0.3333333333333333 0\n",
      "2/3, 2//3 = 0.6666666666666666 0\n",
      "3/2, 3//2 = 1.5 1\n",
      "5/3, 5//3 = 1.6666666666666667 1\n"
     ]
    }
   ],
   "source": [
    "print('1/2, 1//2 =', 1/2, 1//2)\n",
    "print('1/3, 1//3 =', 1/3, 1//3)\n",
    "print('2/3, 2//3 =', 2/3, 2//3)\n",
    "print('3/2, 3//2 =', 3/2, 3//2)\n",
    "print('5/3, 5//3 =', 5/3, 5//3)"
   ]
  },
  {
   "cell_type": "markdown",
   "metadata": {},
   "source": [
    "The result is rounded down to the integer value."
   ]
  },
  {
   "cell_type": "markdown",
   "metadata": {},
   "source": [
    "**Raising to some power**\n",
    "\n",
    "$$\n",
    "c = a^b\n",
    "$$\n",
    "\n",
    "is done like this"
   ]
  },
  {
   "cell_type": "code",
   "execution_count": 9,
   "metadata": {},
   "outputs": [
    {
     "name": "stdout",
     "output_type": "stream",
     "text": [
      "9\n"
     ]
    }
   ],
   "source": [
    "a, b = 3, 2\n",
    "c = a**b\n",
    "print(c)"
   ]
  },
  {
   "cell_type": "markdown",
   "metadata": {},
   "source": [
    "If the power $n$ in\n",
    "\n",
    "$$\n",
    "y = x^n\n",
    "$$\n",
    "\n",
    "is an integer, declare $n$ as integer 2 which will be faster than if you declare it as 2.0."
   ]
  },
  {
   "cell_type": "code",
   "execution_count": 10,
   "metadata": {},
   "outputs": [
    {
     "name": "stdout",
     "output_type": "stream",
     "text": [
      "1.234 2 1.522756\n"
     ]
    }
   ],
   "source": [
    "x, n = 1.234, 2\n",
    "y = x**n\n",
    "print(x,n,y)"
   ]
  },
  {
   "cell_type": "markdown",
   "metadata": {},
   "source": [
    "## Formatted print\n",
    "We can use C-style formatting"
   ]
  },
  {
   "cell_type": "code",
   "execution_count": 11,
   "metadata": {},
   "outputs": [
    {
     "name": "stdout",
     "output_type": "stream",
     "text": [
      "i, x =    10     1.234568   1.234568e+00\n"
     ]
    }
   ],
   "source": [
    "i = 10\n",
    "x = 1.23456789\n",
    "print('i, x = %5d %12.6f %14.6e' % (i,x,x))"
   ]
  },
  {
   "cell_type": "markdown",
   "metadata": {},
   "source": [
    "Since we used 6 decimal places, the floating point numbers are rounded. The exponential form is preferred if we have very small or very large numbers."
   ]
  },
  {
   "cell_type": "code",
   "execution_count": 12,
   "metadata": {},
   "outputs": [
    {
     "name": "stdout",
     "output_type": "stream",
     "text": [
      "        0.000000     1.234560e-08\n"
     ]
    }
   ],
   "source": [
    "x = 0.0000000123456\n",
    "print('%16.6f %16.6e' % (x,x))"
   ]
  },
  {
   "cell_type": "markdown",
   "metadata": {},
   "source": [
    "## Math functions"
   ]
  },
  {
   "cell_type": "markdown",
   "metadata": {},
   "source": [
    "The basic Python language does not have mathematical functions like sin, cos, etc. These are implemented in additional **modules**. The `math` module provides many of these standard functions. We have to first import the module like this"
   ]
  },
  {
   "cell_type": "code",
   "execution_count": 13,
   "metadata": {},
   "outputs": [],
   "source": [
    "import math"
   ]
  },
  {
   "cell_type": "markdown",
   "metadata": {},
   "source": [
    "Now we can use the functions available in this module."
   ]
  },
  {
   "cell_type": "code",
   "execution_count": 14,
   "metadata": {},
   "outputs": [
    {
     "name": "stdout",
     "output_type": "stream",
     "text": [
      "-0.5440211108893698\n"
     ]
    }
   ],
   "source": [
    "x = 10.0\n",
    "z = math.sin(x)\n",
    "print(z)"
   ]
  },
  {
   "cell_type": "markdown",
   "metadata": {},
   "source": [
    "Value of $\\pi$"
   ]
  },
  {
   "cell_type": "code",
   "execution_count": 15,
   "metadata": {},
   "outputs": [
    {
     "name": "stdout",
     "output_type": "stream",
     "text": [
      "3.141592653589793\n"
     ]
    }
   ],
   "source": [
    "print(math.pi)"
   ]
  },
  {
   "cell_type": "markdown",
   "metadata": {},
   "source": [
    "## On import"
   ]
  },
  {
   "cell_type": "markdown",
   "metadata": {},
   "source": [
    "We can also import everything into the current workspace and then we can use it without prepending ```math```\n",
    "\n",
    "```python\n",
    ">> from math import *\n",
    ">> x = sin(1.5*pi)\n",
    "```\n",
    "\n",
    "but this is not recommended usage since there may exist functions with same name in different modules. We can also import only what we need, e.g.,\n",
    "\n",
    "```python\n",
    "from math import sin,cos,pi\n",
    "```"
   ]
  },
  {
   "cell_type": "markdown",
   "metadata": {},
   "source": [
    "## Strings\n",
    "\n",
    "Strings can be created by enclosing characters between **single quote** or **double quotes**."
   ]
  },
  {
   "cell_type": "code",
   "execution_count": 16,
   "metadata": {},
   "outputs": [
    {
     "name": "stdout",
     "output_type": "stream",
     "text": [
      "Hello, World!\n"
     ]
    }
   ],
   "source": [
    "a, b, c, d = 'Hello', ',', ' ', 'World!'\n",
    "print(a+b+c+d)"
   ]
  },
  {
   "cell_type": "markdown",
   "metadata": {},
   "source": [
    "Addition operator on strings concatenates them.\n",
    "\n",
    "If we want to create a string of the form `sol_100.txt`"
   ]
  },
  {
   "cell_type": "code",
   "execution_count": 17,
   "metadata": {},
   "outputs": [
    {
     "name": "stdout",
     "output_type": "stream",
     "text": [
      "sol_100.txt\n"
     ]
    }
   ],
   "source": [
    "base = 'sol_'\n",
    "it   = 100\n",
    "ext  = '.txt'\n",
    "filename = base + str(it) + ext\n",
    "print(filename)"
   ]
  },
  {
   "cell_type": "markdown",
   "metadata": {},
   "source": [
    "## Lists"
   ]
  },
  {
   "cell_type": "markdown",
   "metadata": {},
   "source": [
    "Lists allow us to store a collection of objects. Here is a list of integers"
   ]
  },
  {
   "cell_type": "code",
   "execution_count": 18,
   "metadata": {},
   "outputs": [
    {
     "name": "stdout",
     "output_type": "stream",
     "text": [
      "[1, 2, 3, 4, 5]\n"
     ]
    }
   ],
   "source": [
    "a = [1, 2, 3, 4, 5]\n",
    "print(a)"
   ]
  },
  {
   "cell_type": "markdown",
   "metadata": {},
   "source": [
    "But lists can be made up of different types of elements."
   ]
  },
  {
   "cell_type": "code",
   "execution_count": 19,
   "metadata": {},
   "outputs": [
    {
     "name": "stdout",
     "output_type": "stream",
     "text": [
      "[1, 2.0, 3.0, 4, 'x']\n"
     ]
    }
   ],
   "source": [
    "b = [1, 2.0, 3.0, 4, 'x']\n",
    "print(b)"
   ]
  },
  {
   "cell_type": "markdown",
   "metadata": {},
   "source": [
    "Lists look like vectors but they do not obey rules of algebra."
   ]
  },
  {
   "cell_type": "code",
   "execution_count": 20,
   "metadata": {},
   "outputs": [
    {
     "name": "stdout",
     "output_type": "stream",
     "text": [
      "[1, 2, 3, 5, 6, 1]\n"
     ]
    }
   ],
   "source": [
    "x = [1, 2, 3]\n",
    "y = [5, 6, 1]\n",
    "print(x + y)"
   ]
  },
  {
   "cell_type": "markdown",
   "metadata": {},
   "source": [
    "Note that ```x``` and ```y``` have been concatenated. So a list behaves more like a set, but they are not sets since elements in a list can be repeated. To get the behaviour of vector addition, use Numpy arrays which we discuss later.\n",
    "\n",
    "We can access an element of a list using its **index**"
   ]
  },
  {
   "cell_type": "code",
   "execution_count": 21,
   "metadata": {},
   "outputs": [
    {
     "name": "stdout",
     "output_type": "stream",
     "text": [
      "x = [1, 2, 3]\n",
      "x[0] = 1\n",
      "x[1] = 2\n",
      "x[2] = 3\n"
     ]
    }
   ],
   "source": [
    "print('x =',x)\n",
    "print('x[0] =',x[0])\n",
    "print('x[1] =',x[1])\n",
    "print('x[2] =',x[2])"
   ]
  },
  {
   "cell_type": "markdown",
   "metadata": {},
   "source": [
    "> Indices in Python start from 0.\n",
    "\n",
    "You can get the length of a list using ```len```."
   ]
  },
  {
   "cell_type": "code",
   "execution_count": 22,
   "metadata": {},
   "outputs": [
    {
     "name": "stdout",
     "output_type": "stream",
     "text": [
      "[1, 2, 3]\n",
      "3\n"
     ]
    }
   ],
   "source": [
    "print(x)\n",
    "print(len(x))"
   ]
  },
  {
   "cell_type": "markdown",
   "metadata": {},
   "source": [
    "We can modify the elements of a list"
   ]
  },
  {
   "cell_type": "code",
   "execution_count": 23,
   "metadata": {},
   "outputs": [
    {
     "name": "stdout",
     "output_type": "stream",
     "text": [
      "[1, 0, 3]\n"
     ]
    }
   ],
   "source": [
    "x[1] = 0\n",
    "print(x)"
   ]
  },
  {
   "cell_type": "markdown",
   "metadata": {},
   "source": [
    "We can incrementally build a list"
   ]
  },
  {
   "cell_type": "code",
   "execution_count": 24,
   "metadata": {},
   "outputs": [
    {
     "name": "stdout",
     "output_type": "stream",
     "text": [
      "[1, 2, 3]\n"
     ]
    }
   ],
   "source": [
    "a = [] # empty list\n",
    "a.append(1)\n",
    "a.append(2)\n",
    "a.append(3)\n",
    "print(a)"
   ]
  },
  {
   "cell_type": "markdown",
   "metadata": {},
   "source": [
    "## Tuples\n",
    "\n",
    "Tuples are similar to lists but they cannot be modified, they are **immutable**."
   ]
  },
  {
   "cell_type": "code",
   "execution_count": 25,
   "metadata": {},
   "outputs": [
    {
     "name": "stdout",
     "output_type": "stream",
     "text": [
      "(1, 2, 3)\n",
      "1\n",
      "2\n",
      "3\n"
     ]
    }
   ],
   "source": [
    "x = (1,2,3)\n",
    "print(x)\n",
    "print(x[0])\n",
    "print(x[1])\n",
    "print(x[2])"
   ]
  },
  {
   "cell_type": "markdown",
   "metadata": {},
   "source": [
    "Try to modify some element, for example\n",
    "\n",
    "```python\n",
    "x[1] = 0\n",
    "```"
   ]
  },
  {
   "cell_type": "markdown",
   "metadata": {},
   "source": [
    "## Sets\n",
    "\n",
    "A set is a collection of some objects which can be of any and different types."
   ]
  },
  {
   "cell_type": "code",
   "execution_count": 26,
   "metadata": {},
   "outputs": [
    {
     "name": "stdout",
     "output_type": "stream",
     "text": [
      "{1, 2, 3, 'a', 'b', 'c'}\n"
     ]
    }
   ],
   "source": [
    "a = {1, 2, 3, 'a', 'b', 'c'}\n",
    "print(a)"
   ]
  },
  {
   "cell_type": "markdown",
   "metadata": {},
   "source": [
    "Elements of a set must be unique."
   ]
  },
  {
   "cell_type": "code",
   "execution_count": 27,
   "metadata": {},
   "outputs": [
    {
     "name": "stdout",
     "output_type": "stream",
     "text": [
      "{1, 2, 3}\n"
     ]
    }
   ],
   "source": [
    "b = {1, 2, 3, 3}\n",
    "print(b)"
   ]
  },
  {
   "cell_type": "markdown",
   "metadata": {},
   "source": [
    "Minus performs set minus."
   ]
  },
  {
   "cell_type": "code",
   "execution_count": 2,
   "metadata": {},
   "outputs": [
    {
     "name": "stdout",
     "output_type": "stream",
     "text": [
      "{4}\n",
      "set()\n"
     ]
    }
   ],
   "source": [
    "a = {1,2,3,4}\n",
    "b = {1,2,3}\n",
    "print(a-b)\n",
    "print(b-a)"
   ]
  },
  {
   "cell_type": "markdown",
   "metadata": {},
   "source": [
    "Union of sets"
   ]
  },
  {
   "cell_type": "code",
   "execution_count": 4,
   "metadata": {},
   "outputs": [
    {
     "name": "stdout",
     "output_type": "stream",
     "text": [
      "{1, 2, 3, 4, 5, 6}\n",
      "{1, 2, 3, 4, 5, 6}\n"
     ]
    }
   ],
   "source": [
    "c = {1,2,3,4}\n",
    "d = {3,4,5,6}\n",
    "print(c.union(d))\n",
    "print(c|d)"
   ]
  },
  {
   "cell_type": "markdown",
   "metadata": {},
   "source": [
    "## For loops"
   ]
  },
  {
   "cell_type": "code",
   "execution_count": 29,
   "metadata": {},
   "outputs": [
    {
     "name": "stdout",
     "output_type": "stream",
     "text": [
      "0\n",
      "1\n",
      "2\n",
      "3\n",
      "4\n"
     ]
    }
   ],
   "source": [
    "for i in range(5):\n",
    "    print(i)"
   ]
  },
  {
   "cell_type": "markdown",
   "metadata": {},
   "source": [
    "range(n) produces the integers: $0,1,2,\\ldots,n-1$. **Note**: $n$ is not included."
   ]
  },
  {
   "cell_type": "code",
   "execution_count": 30,
   "metadata": {},
   "outputs": [
    {
     "name": "stdout",
     "output_type": "stream",
     "text": [
      "range(0, 5)\n",
      "<class 'range'>\n"
     ]
    }
   ],
   "source": [
    "print(range(5))\n",
    "print(type(range(5)))"
   ]
  },
  {
   "cell_type": "markdown",
   "metadata": {},
   "source": [
    "Specify both start and end"
   ]
  },
  {
   "cell_type": "code",
   "execution_count": 31,
   "metadata": {},
   "outputs": [
    {
     "name": "stdout",
     "output_type": "stream",
     "text": [
      "5\n",
      "6\n",
      "7\n",
      "8\n",
      "9\n"
     ]
    }
   ],
   "source": [
    "for i in range(5,10):\n",
    "    print(i)"
   ]
  },
  {
   "cell_type": "markdown",
   "metadata": {},
   "source": [
    "range(m,n) produces the integers: $m,m+1,\\ldots,n-1$ provided $m < n$."
   ]
  },
  {
   "cell_type": "code",
   "execution_count": 32,
   "metadata": {},
   "outputs": [
    {
     "name": "stdout",
     "output_type": "stream",
     "text": [
      "0\n",
      "2\n",
      "4\n",
      "6\n",
      "8\n"
     ]
    }
   ],
   "source": [
    "for i in range(0,10,2):\n",
    "    print(i)"
   ]
  },
  {
   "cell_type": "markdown",
   "metadata": {},
   "source": [
    "range(m,n,s) produces the integers: $m,m+s,m+2s,\\ldots$ until $n$, but excluding $n$.\n",
    "\n",
    "We can have a negative step size."
   ]
  },
  {
   "cell_type": "code",
   "execution_count": 33,
   "metadata": {},
   "outputs": [
    {
     "name": "stdout",
     "output_type": "stream",
     "text": [
      "10\n",
      "8\n",
      "6\n",
      "4\n",
      "2\n"
     ]
    }
   ],
   "source": [
    "for i in range(10,0,-2):\n",
    "    print(i)"
   ]
  },
  {
   "cell_type": "markdown",
   "metadata": {},
   "source": [
    "## In built manual/help\n",
    "\n",
    "To see the inbuilt manual in terminal\n",
    "\n",
    "```python\n",
    ">>> range?\n",
    "```\n",
    "\n",
    "This works for all functions, etc.\n",
    "\n",
    "```python\n",
    ">>> import math\n",
    ">>> math.sin?\n",
    "```\n",
    "\n",
    "In a notebook, type this in a code cell\n",
    "\n",
    "```text\n",
    "range?\n",
    "```\n",
    "\n",
    "get the help documentation."
   ]
  },
  {
   "cell_type": "markdown",
   "metadata": {},
   "source": [
    "### Example: Sum a list of integers\n",
    "\n",
    "Given $a \\in \\re^n$ compute\n",
    "\n",
    "$$\n",
    "s = \\sum_{i=0}^{n-1} a_i\n",
    "$$\n",
    "\n",
    "We will need some mechanism to iterate over the elements to compute the sum, and we can use a `for` loop."
   ]
  },
  {
   "cell_type": "code",
   "execution_count": 34,
   "metadata": {},
   "outputs": [
    {
     "name": "stdout",
     "output_type": "stream",
     "text": [
      "Sum =  55\n"
     ]
    }
   ],
   "source": [
    "a = [1,2,3,4,5,6,7,8,9,10]\n",
    "s = 0\n",
    "for x in a:\n",
    "    s += x\n",
    "print('Sum = ',s)"
   ]
  },
  {
   "cell_type": "markdown",
   "metadata": {},
   "source": [
    "Note that ```s += x``` is shorthand for ```s = s + x```. Since we accumulate the sum into ```s```, we have to first initialize it to zero.\n",
    "\n",
    "Another way is to use indices"
   ]
  },
  {
   "cell_type": "code",
   "execution_count": 35,
   "metadata": {},
   "outputs": [
    {
     "name": "stdout",
     "output_type": "stream",
     "text": [
      "Sum =  55\n"
     ]
    }
   ],
   "source": [
    "s = 0\n",
    "for i in range(len(a)):\n",
    "    s += a[i]\n",
    "print('Sum = ',s)"
   ]
  },
  {
   "cell_type": "markdown",
   "metadata": {},
   "source": [
    "## while loop"
   ]
  },
  {
   "cell_type": "markdown",
   "metadata": {},
   "source": [
    "A `for` loop is useful when we know a-priori how many steps we have to do. When we dont know in advance how many steps are needed, a `while` loop may be more useful.\n",
    "\n",
    "*Example*: Generate independent uniform random numbers $x_j$ such that\n",
    "\n",
    "$$\n",
    "\\sum_{j=0}^{n-1} x_j < 10, \\qquad \\sum_{j=0}^{n} x_j > 10\n",
    "$$\n",
    "\n",
    "We dont know the value of `n` a-priori."
   ]
  },
  {
   "cell_type": "code",
   "execution_count": 5,
   "metadata": {},
   "outputs": [
    {
     "name": "stdout",
     "output_type": "stream",
     "text": [
      "    1         0.4467403106\n",
      "    2         0.7106487016\n",
      "    3         1.6193132944\n",
      "    4         2.4096143538\n",
      "    5         2.6451595433\n",
      "    6         3.3427232037\n",
      "    7         3.6701552536\n",
      "    8         4.5535499498\n",
      "    9         5.1007807385\n",
      "   10         5.2633717284\n",
      "   11         6.0162160686\n",
      "   12         6.8578548448\n",
      "   13         7.7330282082\n",
      "   14         7.9861981104\n",
      "   15         8.4430854481\n",
      "   16         9.0626736990\n",
      "   17         9.2223143008\n",
      "   18         9.3515881878\n",
      "   19         9.4048648976\n",
      "   20        10.2719111323\n"
     ]
    }
   ],
   "source": [
    "import random\n",
    "s, i = 0.0, 0\n",
    "while s < 10.0:\n",
    "    s += random.random()\n",
    "    i += 1\n",
    "    print(\"%5d %20.10f\" % (i,s))"
   ]
  },
  {
   "cell_type": "markdown",
   "metadata": {},
   "source": [
    "## enumerate\n",
    "\n",
    "Another way to iterate over an array-type object where we get both index and element value is using enumerate."
   ]
  },
  {
   "cell_type": "code",
   "execution_count": 37,
   "metadata": {},
   "outputs": [
    {
     "name": "stdout",
     "output_type": "stream",
     "text": [
      "0 1.2\n",
      "1 2.3\n",
      "2 3.4\n",
      "3 4.5\n",
      "4 5.6\n"
     ]
    }
   ],
   "source": [
    "values = [1.2, 2.3, 3.4, 4.5, 5.6]\n",
    "for i,val in enumerate(values):\n",
    "    print(i,val)"
   ]
  },
  {
   "cell_type": "markdown",
   "metadata": {},
   "source": [
    "## Swapping"
   ]
  },
  {
   "cell_type": "code",
   "execution_count": 38,
   "metadata": {},
   "outputs": [
    {
     "name": "stdout",
     "output_type": "stream",
     "text": [
      "a =  1 , b =  2\n",
      "a =  2 , b =  1\n"
     ]
    }
   ],
   "source": [
    "a, b = 1, 2\n",
    "print('a = ',a,', b = ',b)\n",
    "a, b = b, a\n",
    "print('a = ',a,', b = ',b)"
   ]
  }
 ],
 "metadata": {
  "kernelspec": {
   "display_name": "Python 3 (ipykernel)",
   "language": "python",
   "name": "python3"
  },
  "language_info": {
   "codemirror_mode": {
    "name": "ipython",
    "version": 3
   },
   "file_extension": ".py",
   "mimetype": "text/x-python",
   "name": "python",
   "nbconvert_exporter": "python",
   "pygments_lexer": "ipython3",
   "version": "3.12.8"
  },
  "toc": {
   "base_numbering": 1,
   "nav_menu": {},
   "number_sections": true,
   "sideBar": true,
   "skip_h1_title": false,
   "title_cell": "Table of Contents",
   "title_sidebar": "Contents",
   "toc_cell": false,
   "toc_position": {},
   "toc_section_display": true,
   "toc_window_display": false
  },
  "vscode": {
   "interpreter": {
    "hash": "c6e4e9f98eb68ad3b7c296f83d20e6de614cb42e90992a65aa266555a3137d0d"
   }
  }
 },
 "nbformat": 4,
 "nbformat_minor": 4
}
